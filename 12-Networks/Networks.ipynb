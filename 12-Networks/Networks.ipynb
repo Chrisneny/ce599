{
 "cells": [
  {
   "cell_type": "markdown",
   "metadata": {},
   "source": [
    "# Networks\n",
    "\n",
    "This lesson introduces the network data structure.  Aspects of this lesson are adapted from Andrew Brooks' tutorial on graph optimization.  \n",
    "\n",
    "https://www.datacamp.com/community/tutorials/networkx-python-graph-tutorial\n",
    "\n",
    "It also draws from theory material presented at PyCon 2015 by Celia La and Sarah Guido.  \n",
    "\n",
    "https://github.com/sarguido/networkx-tutorial\n",
    "\n",
    "You will need to install two packages:\n",
    "\n",
    "pip install networkx\n",
    "pip install imageio\n",
    "\n",
    "The networkx documentation is here: \n",
    "\n",
    "https://networkx.github.io/"
   ]
  },
  {
   "cell_type": "code",
   "execution_count": 1,
   "metadata": {},
   "outputs": [],
   "source": [
    "# imports\n",
    "import pandas as pd\n",
    "import networkx as nx\n",
    "import matplotlib.pyplot as plt\n",
    "\n",
    "%matplotlib inline"
   ]
  },
  {
   "cell_type": "markdown",
   "metadata": {
    "collapsed": true
   },
   "source": [
    "# Intro to NetworkX\n",
    "\n",
    "### Adding & editing graph nodes\n",
    "\n",
    "We'll first take a look at creating a graph, and adding/editing nodes:"
   ]
  },
  {
   "cell_type": "code",
   "execution_count": 2,
   "metadata": {},
   "outputs": [
    {
     "data": {
      "text/plain": [
       "NodeView((1, 2, 3, 'four', 5))"
      ]
     },
     "execution_count": 2,
     "metadata": {},
     "output_type": "execute_result"
    }
   ],
   "source": [
    "import networkx as nx\n",
    "\n",
    "'''use g = nx.Graph() to create a graph'''\n",
    "\n",
    "g = nx.Graph()\n",
    "\n",
    "'''Lesson: use .add_node(1) to add a single node'''\n",
    "g.add_node(1)\n",
    "\n",
    "'''Lesson: use .add_nodes_from([2, 3, 'four', 5])  to add in bulk'''\n",
    "g.add_nodes_from([2, 3, 'four', 5])\n",
    "\n",
    "g.nodes()  # run g.nodes() to view the graph"
   ]
  },
  {
   "cell_type": "code",
   "execution_count": 3,
   "metadata": {},
   "outputs": [
    {
     "data": {
      "text/plain": [
       "NodeView((1, 2, 3, 'four', 5, 4))"
      ]
     },
     "execution_count": 3,
     "metadata": {},
     "output_type": "execute_result"
    }
   ],
   "source": [
    "'''Note that NetworkX won't complain if we re-add pre-existing nodes'''\n",
    "\n",
    "# TODO: try re-adding nodes to see what happens\n",
    "\n",
    "g.add_nodes_from([2, 4, 5])  # display nodes\n",
    "g.nodes()"
   ]
  },
  {
   "cell_type": "code",
   "execution_count": 4,
   "metadata": {},
   "outputs": [
    {
     "data": {
      "text/plain": [
       "NodeView((3, 'four', 5))"
      ]
     },
     "execution_count": 4,
     "metadata": {},
     "output_type": "execute_result"
    }
   ],
   "source": [
    "'''Lesson: remove syntax is similar to adding, eg:\n",
    "        .remove_node()\n",
    "        .remove_nodes_from()\n",
    "'''\n",
    "\n",
    "# TODO: try removing both 1) single nodes, 2) nodes in bulk\n",
    "\n",
    "\n",
    "g.remove_nodes_from([1, 4, 2])\n",
    "g.nodes()  # display nodes"
   ]
  },
  {
   "cell_type": "markdown",
   "metadata": {},
   "source": [
    "### Adding & editing edges"
   ]
  },
  {
   "cell_type": "code",
   "execution_count": 5,
   "metadata": {},
   "outputs": [
    {
     "name": "stdout",
     "output_type": "stream",
     "text": [
      "edges: [('a', 'b')]\n",
      "nodes: ['a', 'b']\n"
     ]
    }
   ],
   "source": [
    "h = nx.Graph()  # let's create a 2nd graph to play with edges\n",
    "\n",
    "'''Lesson: to create an edge, just specify the 2 nodes that define it: \n",
    "        .add_edge('a','b')\n",
    "    Note that those nodes also get added (no need to make them beforehand!)\n",
    "'''\n",
    "\n",
    "h.add_edge('a', 'b')\n",
    "\n",
    "\n",
    "print('edges:', h.edges())  # see your new edge\n",
    "print('nodes:', h.nodes())  # verify that new nodes were also added"
   ]
  },
  {
   "cell_type": "markdown",
   "metadata": {},
   "source": [
    "### Visualizing graphs"
   ]
  },
  {
   "cell_type": "code",
   "execution_count": 6,
   "metadata": {},
   "outputs": [
    {
     "name": "stderr",
     "output_type": "stream",
     "text": [
      "C:\\ProgramData\\Anaconda3\\lib\\site-packages\\networkx\\drawing\\nx_pylab.py:611: MatplotlibDeprecationWarning: isinstance(..., numbers.Number)\n",
      "  if cb.is_numlike(alpha):\n"
     ]
    },
    {
     "data": {
      "image/png": "[encoded data removed]",
      "text/plain": [
       "<Figure size 432x288 with 1 Axes>"
      ]
     },
     "metadata": {},
     "output_type": "display_data"
    }
   ],
   "source": [
    "\n",
    "GREEN = \"#77DD77\"\n",
    "BLUE = \"#99CCFF\"\n",
    "\n",
    "nx.draw(g, node_color=GREEN, with_labels=True)\n",
    "nx.draw(h, node_color=BLUE, with_labels=True)\n",
    "\n"
   ]
  },
  {
   "cell_type": "markdown",
   "metadata": {},
   "source": [
    "#### How would you create the following graph?\n",
    "\n",
    "<img src=\"img/graph.png\" style=\"float:left\" width=\"200\" />"
   ]
  },
  {
   "cell_type": "code",
   "execution_count": 7,
   "metadata": {},
   "outputs": [
    {
     "data": {
      "image/png": "[encoded data removed]",
      "text/plain": [
       "<Figure size 432x288 with 1 Axes>"
      ]
     },
     "metadata": {},
     "output_type": "display_data"
    }
   ],
   "source": [
    "g = nx.Graph()\n",
    "\n",
    "g.add_edges_from([('A','B'),('B','D'),('C','D'),('E','D'),('F','D')])\n",
    "nx.draw(g, with_labels = True)"
   ]
  },
  {
   "cell_type": "markdown",
   "metadata": {},
   "source": [
    "# Directed graphs"
   ]
  },
  {
   "cell_type": "code",
   "execution_count": 8,
   "metadata": {},
   "outputs": [
    {
     "data": {
      "image/png": "[encoded data removed]",
      "text/plain": [
       "<Figure size 432x288 with 1 Axes>"
      ]
     },
     "metadata": {},
     "output_type": "display_data"
    }
   ],
   "source": [
    "g = nx.DiGraph()\n",
    "\n",
    "g.add_edges_from([('A','B'),('B','D'),('D','C'),('D','E'),('D','F')])\n",
    "nx.draw(g, with_labels = True)"
   ]
  },
  {
   "cell_type": "code",
   "execution_count": 9,
   "metadata": {},
   "outputs": [
    {
     "name": "stdout",
     "output_type": "stream",
     "text": [
      "directed edges: [(1, 2), (2, 3)]\n"
     ]
    },
    {
     "data": {
      "image/png": "[encoded data removed]",
      "text/plain": [
       "<Figure size 432x288 with 1 Axes>"
      ]
     },
     "metadata": {},
     "output_type": "display_data"
    }
   ],
   "source": [
    "'''Lesson: use nx.DiGraph() to create a new directed graph\n",
    "'''\n",
    "\n",
    "dg = nx.DiGraph()\n",
    "\n",
    "\n",
    "dg.add_edges_from([(1,2), (2,3)])\n",
    "\n",
    "print('directed edges:', dg.edges())\n",
    "nx.draw(dg, node_color=GREEN, with_labels=True)\n"
   ]
  },
  {
   "cell_type": "code",
   "execution_count": 10,
   "metadata": {},
   "outputs": [
    {
     "data": {
      "image/png": "[encoded data removed]",
      "text/plain": [
       "<Figure size 432x288 with 1 Axes>"
      ]
     },
     "metadata": {},
     "output_type": "display_data"
    }
   ],
   "source": [
    "'''We can make directed graphs from existing graphs, eg:\n",
    "        nx.DiGraph(g)\n",
    "'''\n",
    "\n",
    "dg = nx.DiGraph(g) #take note\n",
    "\n",
    "\n",
    "nx.draw(dg, node_color=BLUE, with_labels=True)"
   ]
  },
  {
   "cell_type": "code",
   "execution_count": 11,
   "metadata": {},
   "outputs": [],
   "source": [
    "#g = nx.DiGraph()\n",
    "#g.add_edges_from([('A','B'),('B','D'),('C','D'),('E','D'),('F','D')])\n",
    "#nx.draw(g, node_color=GREEN, with_labels=True)"
   ]
  },
  {
   "cell_type": "code",
   "execution_count": 12,
   "metadata": {},
   "outputs": [
    {
     "data": {
      "text/plain": [
       "OutEdgeView([('A', 'B'), ('B', 'D'), ('D', 'C'), ('D', 'E'), ('D', 'F')])"
      ]
     },
     "execution_count": 12,
     "metadata": {},
     "output_type": "execute_result"
    }
   ],
   "source": [
    "''' Notice that nodes A and B have TWO directed edges:\n",
    "        A -> B\n",
    "        B -> A\n",
    "'''\n",
    "\n",
    "dg.edges()"
   ]
  },
  {
   "cell_type": "markdown",
   "metadata": {},
   "source": [
    "### Adding attributes to nodes and edges\n",
    "\n",
    "Sometimes you may want to attach attributes to either the nodes or edges:\n",
    "\n",
    "* Perhaps you want to save node properties that will be helpful with future analysis\n",
    "* Perhaps you want to attach visual descriptions, such a node size, edge width or graph color"
   ]
  },
  {
   "cell_type": "code",
   "execution_count": 13,
   "metadata": {},
   "outputs": [
    {
     "data": {
      "image/png": "[encoded data removed]",
      "text/plain": [
       "<Figure size 432x288 with 1 Axes>"
      ]
     },
     "metadata": {},
     "output_type": "display_data"
    }
   ],
   "source": [
    "cities = nx.Graph()\n",
    "\n",
    "cities.add_edge('San Diego', 'Los Angeles', attr_dict = { 'distance': 0.4})\n",
    "cities.add_edge('New York', 'Nashville', attr_dict ={ 'distance': 5.6})\n",
    "cities.add_edge('Boston', 'D.C.', attr_dict ={ 'distance': 0.8})\n",
    "\n",
    "nx.draw(cities, with_labels = True)"
   ]
  },
  {
   "cell_type": "markdown",
   "metadata": {},
   "source": [
    "# Describing a network"
   ]
  },
  {
   "cell_type": "markdown",
   "metadata": {},
   "source": [
    "### Degree Distribution:\n",
    "\n",
    "\n",
    "\n",
    "<img src=\"img/graph.png\" style=\"float:left; padding-right:20px;\" width=\"200\" />\n",
    "\n",
    "- 1 node with 4 edges\n",
    "- 1 node with 2 edges\n",
    "- 4 nodes with 1 edge\n",
    "\n",
    "Distribution:\n",
    "\n",
    "    [(1:4), (1:2), (4:1)]\n"
   ]
  },
  {
   "cell_type": "code",
   "execution_count": 14,
   "metadata": {},
   "outputs": [
    {
     "name": "stdout",
     "output_type": "stream",
     "text": [
      "Degree Distribution: [('A', 1), ('B', 2), ('D', 4), ('C', 1), ('E', 1), ('F', 1)]\n"
     ]
    }
   ],
   "source": [
    "# Degree Distribution for all nodes\n",
    "print('Degree Distribution:', g.degree())"
   ]
  },
  {
   "cell_type": "code",
   "execution_count": 15,
   "metadata": {},
   "outputs": [
    {
     "name": "stdout",
     "output_type": "stream",
     "text": [
      "Avg shortest path from A to E is 3 hops:\n",
      "['A', 'B', 'D', 'E']\n"
     ]
    },
    {
     "data": {
      "image/png": "[encoded data removed]",
      "text/plain": [
       "<Figure size 432x288 with 1 Axes>"
      ]
     },
     "metadata": {},
     "output_type": "display_data"
    }
   ],
   "source": [
    "# Generate the graph above\n",
    "paths = nx.Graph()\n",
    "paths.add_edges_from([\n",
    "    ('A','B'), ('B','D'), ('B','C'), ('D','E'), ('D','C'),\n",
    "    ('C','1'), ('1','2'), ('1','3'), ('2','3'), \n",
    "    ('E','2'), ('E','4')])\n",
    "\n",
    "nx.draw(paths, node_color=BLUE, with_labels=True)\n",
    "\n",
    "# Display average shortest path details\n",
    "print('Avg shortest path from A to E is', nx.shortest_path_length(paths, 'A','E'), 'hops:')\n",
    "print(nx.shortest_path(paths, 'A','E'))"
   ]
  },
  {
   "cell_type": "markdown",
   "metadata": {},
   "source": [
    "## Network Centrality (the higher result is better!)\n",
    "\n",
    "* **Degree: number of edges** for node X\n",
    "* **Betweenness: number of shortest paths** that pass through node X\n",
    "* **Closeness: average of the shortest paths** between X and all other nodes\n",
    "\n",
    "<img src=\"img/centrality1.png\" style=\"float:left;\" width=\"400\" />\n",
    "<img src=\"img/centrality2.png\" style=\"float:left;\" width=\"200\" />\n",
    "\n"
   ]
  },
  {
   "cell_type": "code",
   "execution_count": 16,
   "metadata": {},
   "outputs": [
    {
     "name": "stdout",
     "output_type": "stream",
     "text": [
      "Degree Centrality:\n",
      "[('A', 1), ('B', 2), ('D', 4), ('C', 1), ('E', 1), ('F', 1)]\n",
      "\n",
      "Degree Centrality, Normalized:\n",
      "{'A': 0.2, 'B': 0.4, 'D': 0.8, 'C': 0.2, 'E': 0.2, 'F': 0.2}\n"
     ]
    }
   ],
   "source": [
    "''' To calculate Degree Distribution for all nodes, use:\n",
    "    g.degree()  for non-normalized values,\n",
    "    nx.degree_centrality(g)   for normalized values\n",
    "'''\n",
    "\n",
    "# degree distrib., non-normalized\n",
    "print('Degree Centrality:')\n",
    "print(g.degree())\n",
    "\n",
    "# TODO degree distrib., normalized\n",
    "print('\\nDegree Centrality, Normalized:')\n",
    "print(nx.degree_centrality(g))\n"
   ]
  },
  {
   "cell_type": "code",
   "execution_count": 17,
   "metadata": {},
   "outputs": [
    {
     "name": "stdout",
     "output_type": "stream",
     "text": [
      "Betweenness Centrality:\n",
      "{'A': 0.0, 'B': 4.0, 'D': 6.0, 'C': 0.0, 'E': 0.0, 'F': 0.0}\n",
      "\n",
      "Betweenness Centrality, Normalized:\n",
      "{'A': 0.0, 'B': 0.2, 'D': 0.30000000000000004, 'C': 0.0, 'E': 0.0, 'F': 0.0}\n"
     ]
    }
   ],
   "source": [
    "''' To calculate betweenness centrality, use:\n",
    "    nx.betweenness_centrality(g, normalized=True/False)   default is True\n",
    "'''\n",
    "\n",
    "# betweenness centrality, non-normalized\n",
    "print('Betweenness Centrality:')\n",
    "print(nx.betweenness_centrality(g, normalized=False))\n",
    "\n",
    "# betweenness centrality, normalized\n",
    "print('\\nBetweenness Centrality, Normalized:')\n",
    "print(nx.betweenness_centrality(g, normalized=True))\n"
   ]
  },
  {
   "cell_type": "code",
   "execution_count": 18,
   "metadata": {},
   "outputs": [
    {
     "name": "stdout",
     "output_type": "stream",
     "text": [
      "Closeness Centrality:\n",
      "{'A': 0.0, 'B': 0.2, 'D': 0.26666666666666666, 'C': 0.3, 'E': 0.3, 'F': 0.3}\n"
     ]
    }
   ],
   "source": [
    "''' to calculate closeness centrality, use:\n",
    "    nx.closeness_centrality(g)\n",
    "'''\n",
    "\n",
    "# find closeness centrality\n",
    "print('Closeness Centrality:')\n",
    "print(nx.closeness_centrality(g))"
   ]
  },
  {
   "cell_type": "markdown",
   "metadata": {},
   "source": [
    "# Back to Airline Networks\n",
    "\n",
    "Previously we used open flights to examine airline routes around the world.  We found that it was a bit of a pain to store the data in tables, and merge different information.  We can model it as network instead.  I've cleaned the data up a bit, and selected out only the routes operated by Delta, making it a bit more managable.  \n"
   ]
  },
  {
   "cell_type": "code",
   "execution_count": 50,
   "metadata": {},
   "outputs": [
    {
     "data": {
      "text/html": [
       "<div>\n",
       "<style scoped>\n",
       "    .dataframe tbody tr th:only-of-type {\n",
       "        vertical-align: middle;\n",
       "    }\n",
       "\n",
       "    .dataframe tbody tr th {\n",
       "        vertical-align: top;\n",
       "    }\n",
       "\n",
       "    .dataframe thead th {\n",
       "        text-align: right;\n",
       "    }\n",
       "</style>\n",
       "<table border=\"1\" class=\"dataframe\">\n",
       "  <thead>\n",
       "    <tr style=\"text-align: right;\">\n",
       "      <th></th>\n",
       "      <th>Unnamed: 0</th>\n",
       "      <th>airline</th>\n",
       "      <th>airline_id</th>\n",
       "      <th>source</th>\n",
       "      <th>source_id</th>\n",
       "      <th>dest</th>\n",
       "      <th>dest_id</th>\n",
       "      <th>codeshare</th>\n",
       "      <th>stops</th>\n",
       "      <th>equipment</th>\n",
       "      <th>latitude_source</th>\n",
       "      <th>longitude_source</th>\n",
       "      <th>latitude_dest</th>\n",
       "      <th>longitude_dest</th>\n",
       "    </tr>\n",
       "  </thead>\n",
       "  <tbody>\n",
       "    <tr>\n",
       "      <th>0</th>\n",
       "      <td>0</td>\n",
       "      <td>DL</td>\n",
       "      <td>2009.0</td>\n",
       "      <td>ABE</td>\n",
       "      <td>4355.0</td>\n",
       "      <td>ATL</td>\n",
       "      <td>3682.0</td>\n",
       "      <td>NaN</td>\n",
       "      <td>0</td>\n",
       "      <td>717</td>\n",
       "      <td>40.652100</td>\n",
       "      <td>-75.440804</td>\n",
       "      <td>33.636700</td>\n",
       "      <td>-84.428101</td>\n",
       "    </tr>\n",
       "    <tr>\n",
       "      <th>1</th>\n",
       "      <td>1</td>\n",
       "      <td>DL</td>\n",
       "      <td>2009.0</td>\n",
       "      <td>ABQ</td>\n",
       "      <td>4019.0</td>\n",
       "      <td>ATL</td>\n",
       "      <td>3682.0</td>\n",
       "      <td>NaN</td>\n",
       "      <td>0</td>\n",
       "      <td>757 320</td>\n",
       "      <td>35.040199</td>\n",
       "      <td>-106.609001</td>\n",
       "      <td>33.636700</td>\n",
       "      <td>-84.428101</td>\n",
       "    </tr>\n",
       "    <tr>\n",
       "      <th>2</th>\n",
       "      <td>2</td>\n",
       "      <td>DL</td>\n",
       "      <td>2009.0</td>\n",
       "      <td>ABQ</td>\n",
       "      <td>4019.0</td>\n",
       "      <td>MSP</td>\n",
       "      <td>3858.0</td>\n",
       "      <td>NaN</td>\n",
       "      <td>0</td>\n",
       "      <td>320</td>\n",
       "      <td>35.040199</td>\n",
       "      <td>-106.609001</td>\n",
       "      <td>44.882000</td>\n",
       "      <td>-93.221802</td>\n",
       "    </tr>\n",
       "    <tr>\n",
       "      <th>3</th>\n",
       "      <td>3</td>\n",
       "      <td>DL</td>\n",
       "      <td>2009.0</td>\n",
       "      <td>ACC</td>\n",
       "      <td>248.0</td>\n",
       "      <td>JFK</td>\n",
       "      <td>3797.0</td>\n",
       "      <td>NaN</td>\n",
       "      <td>0</td>\n",
       "      <td>76W</td>\n",
       "      <td>5.605190</td>\n",
       "      <td>-0.166786</td>\n",
       "      <td>40.639801</td>\n",
       "      <td>-73.778900</td>\n",
       "    </tr>\n",
       "    <tr>\n",
       "      <th>4</th>\n",
       "      <td>4</td>\n",
       "      <td>DL</td>\n",
       "      <td>2009.0</td>\n",
       "      <td>ACC</td>\n",
       "      <td>248.0</td>\n",
       "      <td>ROB</td>\n",
       "      <td>1063.0</td>\n",
       "      <td>NaN</td>\n",
       "      <td>0</td>\n",
       "      <td>76W</td>\n",
       "      <td>5.605190</td>\n",
       "      <td>-0.166786</td>\n",
       "      <td>6.233790</td>\n",
       "      <td>-10.362300</td>\n",
       "    </tr>\n",
       "  </tbody>\n",
       "</table>\n",
       "</div>"
      ],
      "text/plain": [
       "   Unnamed: 0 airline  airline_id source  source_id dest  dest_id  codeshare  \\\n",
       "0           0      DL      2009.0    ABE     4355.0  ATL   3682.0        NaN   \n",
       "1           1      DL      2009.0    ABQ     4019.0  ATL   3682.0        NaN   \n",
       "2           2      DL      2009.0    ABQ     4019.0  MSP   3858.0        NaN   \n",
       "3           3      DL      2009.0    ACC      248.0  JFK   3797.0        NaN   \n",
       "4           4      DL      2009.0    ACC      248.0  ROB   1063.0        NaN   \n",
       "\n",
       "   stops equipment  latitude_source  longitude_source  latitude_dest  \\\n",
       "0      0       717        40.652100        -75.440804      33.636700   \n",
       "1      0   757 320        35.040199       -106.609001      33.636700   \n",
       "2      0       320        35.040199       -106.609001      44.882000   \n",
       "3      0       76W         5.605190         -0.166786      40.639801   \n",
       "4      0       76W         5.605190         -0.166786       6.233790   \n",
       "\n",
       "   longitude_dest  \n",
       "0      -84.428101  \n",
       "1      -84.428101  \n",
       "2      -93.221802  \n",
       "3      -73.778900  \n",
       "4      -10.362300  "
      ]
     },
     "execution_count": 50,
     "metadata": {},
     "output_type": "execute_result"
    }
   ],
   "source": [
    "# read the data\n",
    "routes = pd.read_csv('data/delta_routes.csv')\n",
    "routes.head()"
   ]
  },
  {
   "cell_type": "markdown",
   "metadata": {},
   "source": [
    "### As a review, let's build an interactive map to see what this looks like\n",
    "\n"
   ]
  },
  {
   "cell_type": "code",
   "execution_count": 20,
   "metadata": {},
   "outputs": [],
   "source": [
    "import pyproj\n",
    "import folium"
   ]
  },
  {
   "cell_type": "code",
   "execution_count": 21,
   "metadata": {},
   "outputs": [],
   "source": [
    "\n",
    "# when creating a function, it is good practice to define the API!\n",
    "def getGreatCirclePoints(startlat, startlon, endlat, endlon): \n",
    "    \"\"\"\n",
    "    startlat - starting latitude \n",
    "    startlon - starting longitude \n",
    "    endlat   - ending latitude \n",
    "    endlon   - ending longitude \n",
    "    \n",
    "    returns - a list of tuples, where each tuple is the lat-long for a point\n",
    "              along the curve.  \n",
    "    \"\"\"\n",
    "    # calculate distance between points\n",
    "    g = pyproj.Geod(ellps='WGS84')\n",
    "    (az12, az21, dist) = g.inv(startlon, startlat, endlon, endlat)\n",
    "\n",
    "    # calculate line string along path with segments <= 20 km\n",
    "    lonlats = g.npts(startlon, startlat, endlon, endlat,\n",
    "                     1 + int(dist / 20000))\n",
    "\n",
    "    # the npts function uses lon-lat, while the folium functions use lat-lon\n",
    "    # This sort of thing is maddening!  What happens is the lines don't show\n",
    "    # up on the map and you don't know why.  Learn from my mistakes\n",
    "    latlons = []\n",
    "    for lon_lat in lonlats: \n",
    "        \n",
    "        # this is how you get values out of a tuple\n",
    "        (lon, lat) = lon_lat\n",
    "        \n",
    "        # add them to our list\n",
    "        latlons.append((lat, lon)) \n",
    "    \n",
    "    # npts doesn't include start/end points, so prepend/append them\n",
    "    latlons.insert(0, (startlat, startlon))\n",
    "    latlons.append((endlat, endlon))\n",
    "    \n",
    "    return latlons\n"
   ]
  },
  {
   "cell_type": "code",
   "execution_count": 22,
   "metadata": {},
   "outputs": [],
   "source": [
    "# create a basic map, centered on Lexington\n",
    "m = folium.Map(\n",
    "    location=[38.034,-84.500],\n",
    "    tiles='Stamen Toner',\n",
    "    zoom_start=4\n",
    ")"
   ]
  },
  {
   "cell_type": "code",
   "execution_count": 23,
   "metadata": {},
   "outputs": [],
   "source": [
    "# define the map in the same way, but use great circles for the lines\n",
    "\n",
    "# Define some empty sets\n",
    "airport_set = set()\n",
    "route_set = set()\n",
    "\n",
    "# Make sure we don't add duplicates, especially for the origins\n",
    "for name, row in routes.iterrows():\n",
    "    \n",
    "    if row['source'] not in airport_set: \n",
    "        popup_string = row['source']\n",
    "        marker = folium.CircleMarker([row[\"latitude_source\"], row[\"longitude_source\"]], \n",
    "                                     color='DarkCyan',\n",
    "                                     fill_color='DarkCyan', \n",
    "                                     radius=5, popup=popup_string)\n",
    "        marker.add_to(m)\n",
    "        airport_set.add(row['source'])\n",
    "        \n",
    "    if row['dest'] not in airport_set: \n",
    "        popup_string = row['dest']\n",
    "        marker = folium.CircleMarker([row[\"latitude_dest\"], row[\"longitude_dest\"]], \n",
    "                                     color='MidnightBlue',\n",
    "                                     fill_color='MidnightBlue', \n",
    "                                     radius=5, popup=popup_string)\n",
    "        marker.add_to(m)\n",
    "        airport_set.add(row['dest'])\n",
    "    \n",
    "    # PolyLine will accept a whole list of tuples, not just two\n",
    "    if (row['source'],row['dest']) not in route_set:            \n",
    "        popup_string = row['source'] + '-' + row['dest']       \n",
    "        \n",
    "        gc_points = getGreatCirclePoints(row[\"latitude_source\"], \n",
    "                                         row[\"longitude_source\"], \n",
    "                                         row[\"latitude_dest\"], \n",
    "                                         row[\"longitude_dest\"])\n",
    "        \n",
    "        line = folium.PolyLine(gc_points, weight=2, popup=popup_string)\n",
    "        line.add_to(m)\n",
    "        route_set.add((row['source'],row['dest']))\n",
    "        "
   ]
  },
  {
   "cell_type": "code",
   "execution_count": 24,
   "metadata": {},
   "outputs": [],
   "source": [
    "# save it to its own file\n",
    "m.save(\"delta.html\")"
   ]
  },
  {
   "cell_type": "markdown",
   "metadata": {},
   "source": [
    "# Homework\n",
    "\n",
    "1. Represent the Delta flights as a network.  What are the nodes?  What are the links?\n",
    "2. Which is the most important airport in Delta's network?  Support your answer using appropriate network metrics.  \n",
    "3. How many flights are needed to reach Honolulu?  \n",
    "4. What is the maximum number of flights needed to reach any destination in Delta's network?\n",
    "5. Convert the network into a weighted network, using the travel time as the weight.  Assume that planes fly at 500 mph, plus 30 minutes to take off + 30 minutes to land.  \n",
    "6. How long does it take to travel to Honolulu, in flight times.  "
   ]
  },
  {
   "cell_type": "markdown",
   "metadata": {},
   "source": [
    "### 1. Represent the Delta flights as a network. What are the nodes? What are the links?"
   ]
  },
  {
   "cell_type": "code",
   "execution_count": 31,
   "metadata": {},
   "outputs": [
    {
     "data": {
      "image/png": "[encoded data removed]",
      "text/plain": [
       "<Figure size 432x288 with 1 Axes>"
      ]
     },
     "metadata": {},
     "output_type": "display_data"
    }
   ],
   "source": [
    "d_flights = nx.DiGraph()\n",
    "\n",
    "for index, row in routes.iterrows():\n",
    "    d_flights.add_edge(row['source'], row['dest'])\n",
    "\n",
    "nx.draw(d_flights)"
   ]
  },
  {
   "cell_type": "markdown",
   "metadata": {},
   "source": [
    "### Network nodes"
   ]
  },
  {
   "cell_type": "code",
   "execution_count": 33,
   "metadata": {},
   "outputs": [
    {
     "name": "stdout",
     "output_type": "stream",
     "text": [
      "There are 230 nodes in the graph \n",
      "\n"
     ]
    },
    {
     "data": {
      "text/plain": [
       "NodeView(('ABE', 'ATL', 'ABQ', 'MSP', 'ACC', 'JFK', 'ROB', 'AGS', 'ALB', 'AMS', 'BOM', 'BOS', 'DTW', 'EWR', 'PDX', 'SEA', 'ANC', 'SLC', 'AUA', 'AUS', 'AVL', 'BDA', 'BDL', 'BHM', 'BNA', 'BOG', 'BON', 'BRU', 'BSB', 'BTR', 'BUF', 'BWI', 'BZE', 'CAE', 'CAK', 'CCS', 'CDG', 'CHA', 'CHS', 'CLE', 'CLT', 'CMH', 'COS', 'CRW', 'CUN', 'CVG', 'CZM', 'DAB', 'DAY', 'DCA', 'DEN', 'DFW', 'DSM', 'DUB', 'DUS', 'DXB', 'ECP', 'ELP', 'EYW', 'EZE', 'FAY', 'FCO', 'FLL', 'FNT', 'FPO', 'FRA', 'GCM', 'GDL', 'GIG', 'GNV', 'GPT', 'GRR', 'GRU', 'GSO', 'GSP', 'GUA', 'HNL', 'HOU', 'HSV', 'IAD', 'IAH', 'ICT', 'ILM', 'IND', 'JAN', 'JAX', 'JNB', 'KIN', 'LAS', 'LAX', 'LEX', 'LGA', 'LHR', 'LIM', 'LIR', 'LIT', 'LOS', 'MAD', 'MAN', 'MBJ', 'MCI', 'MCO', 'MDT', 'MDW', 'MEM', 'MEX', 'MGA', 'MHT', 'MIA', 'MKE', 'MLB', 'MOB', 'MSN', 'MSY', 'MUC', 'MYR', 'NAS', 'NRT', 'OKC', 'OMA', 'ORD', 'ORF', 'PAP', 'PBI', 'PHL', 'PHX', 'PIT', 'PLS', 'PNS', 'PTY', 'PUJ', 'PVD', 'PVR', 'PWM', 'RDU', 'RIC', 'ROA', 'ROC', 'RSW', 'RTB', 'SAL', 'SAN', 'SAP', 'SAT', 'SAV', 'SCL', 'SDF', 'SDQ', 'SFO', 'SJC', 'SJD', 'SJO', 'SJU', 'SMF', 'SNA', 'SRQ', 'STL', 'STR', 'STT', 'SXM', 'SYR', 'TGU', 'TLH', 'TPA', 'TRI', 'TUL', 'TUS', 'TYS', 'UIO', 'UVF', 'VPS', 'XNA', 'ZRH', 'AZO', 'BCN', 'BGR', 'BIL', 'BKK', 'BOI', 'BTV', 'BZN', 'CUL', 'HMO', 'MTY', 'DAL', 'DKR', 'ERI', 'GRB', 'ICN', 'NGO', 'PEK', 'PVG', 'TVC', 'EKO', 'FAR', 'FSD', 'FUK', 'GEG', 'GND', 'GUM', 'KIX', 'HKG', 'HND', 'SVO', 'MXP', 'NCE', 'STI', 'TLV', 'VCE', 'YUL', 'YYZ', 'KOA', 'LIH', 'OGG', 'SYD', 'ACA', 'MID', 'VSA', 'MNL', 'MSO', 'PSP', 'YYC', 'CUU', 'ROR', 'SIN', 'SPN', 'TPE', 'OAK', 'ONT', 'RNO'))"
      ]
     },
     "execution_count": 33,
     "metadata": {},
     "output_type": "execute_result"
    }
   ],
   "source": [
    "print('There are %s nodes in the graph \\n' % len(d_flights.nodes()))\n",
    "d_flights.nodes()"
   ]
  },
  {
   "cell_type": "markdown",
   "metadata": {},
   "source": [
    "### Network edges"
   ]
  },
  {
   "cell_type": "code",
   "execution_count": 32,
   "metadata": {},
   "outputs": [
    {
     "name": "stdout",
     "output_type": "stream",
     "text": [
      "There are 1146 edges in the graph \n",
      "\n"
     ]
    },
    {
     "data": {
      "text/plain": [
       "OutEdgeView([('ABE', 'ATL'), ('ATL', 'ABE'), ('ATL', 'ABQ'), ('ATL', 'AGS'), ('ATL', 'ALB'), ('ATL', 'AMS'), ('ATL', 'AUA'), ('ATL', 'AUS'), ('ATL', 'AVL'), ('ATL', 'BDA'), ('ATL', 'BDL'), ('ATL', 'BHM'), ('ATL', 'BNA'), ('ATL', 'BOG'), ('ATL', 'BON'), ('ATL', 'BOS'), ('ATL', 'BRU'), ('ATL', 'BSB'), ('ATL', 'BTR'), ('ATL', 'BUF'), ('ATL', 'BWI'), ('ATL', 'BZE'), ('ATL', 'CAE'), ('ATL', 'CAK'), ('ATL', 'CCS'), ('ATL', 'CDG'), ('ATL', 'CHA'), ('ATL', 'CHS'), ('ATL', 'CLE'), ('ATL', 'CLT'), ('ATL', 'CMH'), ('ATL', 'COS'), ('ATL', 'CRW'), ('ATL', 'CUN'), ('ATL', 'CVG'), ('ATL', 'CZM'), ('ATL', 'DAB'), ('ATL', 'DAY'), ('ATL', 'DCA'), ('ATL', 'DEN'), ('ATL', 'DFW'), ('ATL', 'DSM'), ('ATL', 'DTW'), ('ATL', 'DUB'), ('ATL', 'DUS'), ('ATL', 'DXB'), ('ATL', 'ECP'), ('ATL', 'ELP'), ('ATL', 'EWR'), ('ATL', 'EYW'), ('ATL', 'EZE'), ('ATL', 'FAY'), ('ATL', 'FCO'), ('ATL', 'FLL'), ('ATL', 'FNT'), ('ATL', 'FPO'), ('ATL', 'FRA'), ('ATL', 'GCM'), ('ATL', 'GDL'), ('ATL', 'GIG'), ('ATL', 'GNV'), ('ATL', 'GPT'), ('ATL', 'GRR'), ('ATL', 'GRU'), ('ATL', 'GSO'), ('ATL', 'GSP'), ('ATL', 'GUA'), ('ATL', 'HNL'), ('ATL', 'HOU'), ('ATL', 'HSV'), ('ATL', 'IAD'), ('ATL', 'IAH'), ('ATL', 'ICT'), ('ATL', 'ILM'), ('ATL', 'IND'), ('ATL', 'JAN'), ('ATL', 'JAX'), ('ATL', 'JFK'), ('ATL', 'JNB'), ('ATL', 'KIN'), ('ATL', 'LAS'), ('ATL', 'LAX'), ('ATL', 'LEX'), ('ATL', 'LGA'), ('ATL', 'LHR'), ('ATL', 'LIM'), ('ATL', 'LIR'), ('ATL', 'LIT'), ('ATL', 'LOS'), ('ATL', 'MAD'), ('ATL', 'MAN'), ('ATL', 'MBJ'), ('ATL', 'MCI'), ('ATL', 'MCO'), ('ATL', 'MDT'), ('ATL', 'MDW'), ('ATL', 'MEM'), ('ATL', 'MEX'), ('ATL', 'MGA'), ('ATL', 'MHT'), ('ATL', 'MIA'), ('ATL', 'MKE'), ('ATL', 'MLB'), ('ATL', 'MOB'), ('ATL', 'MSN'), ('ATL', 'MSP'), ('ATL', 'MSY'), ('ATL', 'MUC'), ('ATL', 'MYR'), ('ATL', 'NAS'), ('ATL', 'NRT'), ('ATL', 'OKC'), ('ATL', 'OMA'), ('ATL', 'ORD'), ('ATL', 'ORF'), ('ATL', 'PAP'), ('ATL', 'PBI'), ('ATL', 'PDX'), ('ATL', 'PHL'), ('ATL', 'PHX'), ('ATL', 'PIT'), ('ATL', 'PLS'), ('ATL', 'PNS'), ('ATL', 'PTY'), ('ATL', 'PUJ'), ('ATL', 'PVD'), ('ATL', 'PVR'), ('ATL', 'PWM'), ('ATL', 'RDU'), ('ATL', 'RIC'), ('ATL', 'ROA'), ('ATL', 'ROC'), ('ATL', 'RSW'), ('ATL', 'RTB'), ('ATL', 'SAL'), ('ATL', 'SAN'), ('ATL', 'SAP'), ('ATL', 'SAT'), ('ATL', 'SAV'), ('ATL', 'SCL'), ('ATL', 'SDF'), ('ATL', 'SDQ'), ('ATL', 'SEA'), ('ATL', 'SFO'), ('ATL', 'SJC'), ('ATL', 'SJD'), ('ATL', 'SJO'), ('ATL', 'SJU'), ('ATL', 'SLC'), ('ATL', 'SMF'), ('ATL', 'SNA'), ('ATL', 'SRQ'), ('ATL', 'STL'), ('ATL', 'STR'), ('ATL', 'STT'), ('ATL', 'SXM'), ('ATL', 'SYR'), ('ATL', 'TGU'), ('ATL', 'TLH'), ('ATL', 'TPA'), ('ATL', 'TRI'), ('ATL', 'TUL'), ('ATL', 'TUS'), ('ATL', 'TYS'), ('ATL', 'UIO'), ('ATL', 'UVF'), ('ATL', 'VPS'), ('ATL', 'XNA'), ('ATL', 'ZRH'), ('ABQ', 'ATL'), ('ABQ', 'MSP'), ('MSP', 'ABQ'), ('MSP', 'AMS'), ('MSP', 'ANC'), ('MSP', 'ATL'), ('MSP', 'BDL'), ('MSP', 'BIL'), ('MSP', 'BOI'), ('MSP', 'BOS'), ('MSP', 'BWI'), ('MSP', 'BZN'), ('MSP', 'CDG'), ('MSP', 'CLT'), ('MSP', 'CMH'), ('MSP', 'CUN'), ('MSP', 'DCA'), ('MSP', 'DEN'), ('MSP', 'DFW'), ('MSP', 'DTW'), ('MSP', 'EWR'), ('MSP', 'FAR'), ('MSP', 'FLL'), ('MSP', 'FSD'), ('MSP', 'GEG'), ('MSP', 'GRR'), ('MSP', 'IAH'), ('MSP', 'IND'), ('MSP', 'JFK'), ('MSP', 'LAS'), ('MSP', 'LAX'), ('MSP', 'LGA'), ('MSP', 'LHR'), ('MSP', 'MCI'), ('MSP', 'MCO'), ('MSP', 'MEM'), ('MSP', 'MIA'), ('MSP', 'MKE'), ('MSP', 'MSN'), ('MSP', 'MSO'), ('MSP', 'NRT'), ('MSP', 'OMA'), ('MSP', 'ORD'), ('MSP', 'PDX'), ('MSP', 'PHL'), ('MSP', 'PHX'), ('MSP', 'PIT'), ('MSP', 'PSP'), ('MSP', 'RDU'), ('MSP', 'RSW'), ('MSP', 'SAN'), ('MSP', 'SDF'), ('MSP', 'SEA'), ('MSP', 'SFO'), ('MSP', 'SJC'), ('MSP', 'SLC'), ('MSP', 'SMF'), ('MSP', 'SNA'), ('MSP', 'STL'), ('MSP', 'TPA'), ('MSP', 'TUS'), ('MSP', 'YYC'), ('ACC', 'JFK'), ('ACC', 'ROB'), ('JFK', 'ACC'), ('JFK', 'AMS'), ('JFK', 'ATL'), ('JFK', 'AUA'), ('JFK', 'AUS'), ('JFK', 'BCN'), ('JFK', 'BDA'), ('JFK', 'BNA'), ('JFK', 'BOG'), ('JFK', 'BOS'), ('JFK', 'BRU'), ('JFK', 'BUF'), ('JFK', 'BWI'), ('JFK', 'CDG'), ('JFK', 'CHS'), ('JFK', 'CLE'), ('JFK', 'CLT'), ('JFK', 'CMH'), ('JFK', 'CUN'), ('JFK', 'CVG'), ('JFK', 'DCA'), ('JFK', 'DEN'), ('JFK', 'DFW'), ('JFK', 'DKR'), ('JFK', 'DTW'), ('JFK', 'DUB'), ('JFK', 'FCO'), ('JFK', 'FLL'), ('JFK', 'FRA'), ('JFK', 'GND'), ('JFK', 'GRU'), ('JFK', 'GUA'), ('JFK', 'IAD'), ('JFK', 'ICN'), ('JFK', 'IND'), ('JFK', 'JAX'), ('JFK', 'LAS'), ('JFK', 'LAX'), ('JFK', 'LHR'), ('JFK', 'LIR'), ('JFK', 'MAD'), ('JFK', 'MBJ'), ('JFK', 'MCO'), ('JFK', 'MEX'), ('JFK', 'MIA'), ('JFK', 'MSP'), ('JFK', 'MXP'), ('JFK', 'NAS'), ('JFK', 'NCE'), ('JFK', 'NRT'), ('JFK', 'ORD'), ('JFK', 'ORF'), ('JFK', 'PAP'), ('JFK', 'PDX'), ('JFK', 'PHL'), ('JFK', 'PHX'), ('JFK', 'PIT'), ('JFK', 'PLS'), ('JFK', 'PUJ'), ('JFK', 'PVG'), ('JFK', 'RDU'), ('JFK', 'RIC'), ('JFK', 'ROC'), ('JFK', 'SAN'), ('JFK', 'SAT'), ('JFK', 'SAV'), ('JFK', 'SDF'), ('JFK', 'SDQ'), ('JFK', 'SEA'), ('JFK', 'SFO'), ('JFK', 'SJO'), ('JFK', 'SJU'), ('JFK', 'SLC'), ('JFK', 'STI'), ('JFK', 'STL'), ('JFK', 'STT'), ('JFK', 'SVO'), ('JFK', 'SXM'), ('JFK', 'SYR'), ('JFK', 'TLV'), ('JFK', 'TPA'), ('JFK', 'VCE'), ('JFK', 'YUL'), ('JFK', 'YYZ'), ('ROB', 'ACC'), ('AGS', 'ATL'), ('ALB', 'ATL'), ('AMS', 'ATL'), ('AMS', 'BOM'), ('AMS', 'BOS'), ('AMS', 'DTW'), ('AMS', 'EWR'), ('AMS', 'JFK'), ('AMS', 'MSP'), ('AMS', 'PDX'), ('AMS', 'SEA'), ('BOM', 'AMS'), ('BOS', 'AMS'), ('BOS', 'ATL'), ('BOS', 'BDA'), ('BOS', 'CDG'), ('BOS', 'CMH'), ('BOS', 'CUN'), ('BOS', 'CVG'), ('BOS', 'DTW'), ('BOS', 'JFK'), ('BOS', 'LAS'), ('BOS', 'LAX'), ('BOS', 'LHR'), ('BOS', 'MCO'), ('BOS', 'MSP'), ('BOS', 'PLS'), ('BOS', 'RDU'), ('BOS', 'SLC'), ('DTW', 'AMS'), ('DTW', 'ATL'), ('DTW', 'AUS'), ('DTW', 'AZO'), ('DTW', 'BDL'), ('DTW', 'BNA'), ('DTW', 'BOS'), ('DTW', 'BUF'), ('DTW', 'BWI'), ('DTW', 'CDG'), ('DTW', 'CLT'), ('DTW', 'CMH'), ('DTW', 'CUN'), ('DTW', 'CVG'), ('DTW', 'DAY'), ('DTW', 'DCA'), ('DTW', 'DEN'), ('DTW', 'DFW'), ('DTW', 'ERI'), ('DTW', 'EWR'), ('DTW', 'FLL'), ('DTW', 'FRA'), ('DTW', 'GCM'), ('DTW', 'GRB'), ('DTW', 'GRR'), ('DTW', 'GRU'), ('DTW', 'IAD'), ('DTW', 'IAH'), ('DTW', 'ICN'), ('DTW', 'IND'), ('DTW', 'JFK'), ('DTW', 'LAS'), ('DTW', 'LAX'), ('DTW', 'LEX'), ('DTW', 'LGA'), ('DTW', 'LHR'), ('DTW', 'MBJ'), ('DTW', 'MCI'), ('DTW', 'MCO'), ('DTW', 'MEM'), ('DTW', 'MEX'), ('DTW', 'MIA'), ('DTW', 'MKE'), ('DTW', 'MSN'), ('DTW', 'MSP'), ('DTW', 'MSY'), ('DTW', 'MTY'), ('DTW', 'NAS'), ('DTW', 'NGO'), ('DTW', 'NRT'), ('DTW', 'OMA'), ('DTW', 'ORD'), ('DTW', 'ORF'), ('DTW', 'PBI'), ('DTW', 'PDX'), ('DTW', 'PEK'), ('DTW', 'PHL'), ('DTW', 'PHX'), ('DTW', 'PIT'), ('DTW', 'PUJ'), ('DTW', 'PVD'), ('DTW', 'PVG'), ('DTW', 'RDU'), ('DTW', 'RIC'), ('DTW', 'RSW'), ('DTW', 'SAN'), ('DTW', 'SAT'), ('DTW', 'SDF'), ('DTW', 'SEA'), ('DTW', 'SFO'), ('DTW', 'SJU'), ('DTW', 'SLC'), ('DTW', 'STL'), ('DTW', 'SYR'), ('DTW', 'TPA'), ('DTW', 'TVC'), ('EWR', 'AMS'), ('EWR', 'ATL'), ('EWR', 'CDG'), ('EWR', 'DTW'), ('EWR', 'MSP'), ('EWR', 'SLC'), ('PDX', 'AMS'), ('PDX', 'ATL'), ('PDX', 'DTW'), ('PDX', 'JFK'), ('PDX', 'MSP'), ('PDX', 'NRT'), ('PDX', 'SLC'), ('SEA', 'AMS'), ('SEA', 'ATL'), ('SEA', 'CDG'), ('SEA', 'DTW'), ('SEA', 'HND'), ('SEA', 'HNL'), ('SEA', 'JFK'), ('SEA', 'LAX'), ('SEA', 'LHR'), ('SEA', 'MSP'), ('SEA', 'NRT'), ('SEA', 'PEK'), ('SEA', 'PVG'), ('SEA', 'SLC'), ('ANC', 'MSP'), ('ANC', 'SLC'), ('SLC', 'ANC'), ('SLC', 'ATL'), ('SLC', 'AUS'), ('SLC', 'BOI'), ('SLC', 'BOS'), ('SLC', 'BWI'), ('SLC', 'CDG'), ('SLC', 'CLT'), ('SLC', 'CUN'), ('SLC', 'CVG'), ('SLC', 'DCA'), ('SLC', 'DEN'), ('SLC', 'DFW'), ('SLC', 'DTW'), ('SLC', 'EKO'), ('SLC', 'EWR'), ('SLC', 'GEG'), ('SLC', 'HNL'), ('SLC', 'IAH'), ('SLC', 'IND'), ('SLC', 'JFK'), ('SLC', 'LAS'), ('SLC', 'LAX'), ('SLC', 'MCI'), ('SLC', 'MCO'), ('SLC', 'MEM'), ('SLC', 'MSP'), ('SLC', 'MSY'), ('SLC', 'OAK'), ('SLC', 'ONT'), ('SLC', 'PDX'), ('SLC', 'PHL'), ('SLC', 'PHX'), ('SLC', 'RDU'), ('SLC', 'RNO'), ('SLC', 'SAN'), ('SLC', 'SAT'), ('SLC', 'SEA'), ('SLC', 'SFO'), ('SLC', 'SJC'), ('SLC', 'SMF'), ('SLC', 'SNA'), ('SLC', 'STL'), ('AUA', 'ATL'), ('AUA', 'JFK'), ('AUA', 'LGA'), ('AUS', 'ATL'), ('AUS', 'DTW'), ('AUS', 'JFK'), ('AUS', 'MSP'), ('AUS', 'SLC'), ('AVL', 'ATL'), ('BDA', 'ATL'), ('BDA', 'BOS'), ('BDA', 'JFK'), ('BDL', 'ATL'), ('BDL', 'DTW'), ('BDL', 'MSP'), ('BHM', 'ATL'), ('BNA', 'ATL'), ('BNA', 'DTW'), ('BNA', 'LAX'), ('BOG', 'ATL'), ('BOG', 'JFK'), ('BON', 'ATL'), ('BRU', 'ATL'), ('BRU', 'JFK'), ('BSB', 'ATL'), ('BTR', 'ATL'), ('BUF', 'ATL'), ('BUF', 'DTW'), ('BUF', 'LGA'), ('BWI', 'ATL'), ('BWI', 'CVG'), ('BWI', 'DTW'), ('BWI', 'MSP'), ('BWI', 'RDU'), ('BWI', 'SLC'), ('BZE', 'ATL'), ('BZE', 'LAX'), ('CAE', 'ATL'), ('CAK', 'ATL'), ('CCS', 'ATL'), ('CDG', 'ATL'), ('CDG', 'BOS'), ('CDG', 'CVG'), ('CDG', 'DTW'), ('CDG', 'EWR'), ('CDG', 'JFK'), ('CDG', 'LAX'), ('CDG', 'MSP'), ('CDG', 'PHL'), ('CDG', 'PIT'), ('CDG', 'SEA'), ('CDG', 'SLC'), ('CHA', 'ATL'), ('CHS', 'ATL'), ('CHS', 'DTW'), ('CHS', 'JFK'), ('CHS', 'LGA'), ('CLE', 'ATL'), ('CLE', 'DTW'), ('CLE', 'JFK'), ('CLE', 'MSP'), ('CLT', 'ATL'), ('CLT', 'DTW'), ('CLT', 'LGA'), ('CLT', 'MSP'), ('CLT', 'SLC'), ('CMH', 'ATL'), ('CMH', 'BOS'), ('CMH', 'LAX'), ('CMH', 'LGA'), ('COS', 'ATL'), ('CRW', 'ATL'), ('CUN', 'ATL'), ('CUN', 'BOS'), ('CUN', 'CVG'), ('CUN', 'DTW'), ('CUN', 'IND'), ('CUN', 'JFK'), ('CUN', 'LAX'), ('CUN', 'MCO'), ('CUN', 'MSP'), ('CUN', 'RDU'), ('CUN', 'SLC'), ('CVG', 'ATL'), ('CVG', 'BOS'), ('CVG', 'CDG'), ('CVG', 'CUN'), ('CVG', 'FLL'), ('CVG', 'GRR'), ('CVG', 'LAS'), ('CVG', 'LAX'), ('CVG', 'LGA'), ('CVG', 'MCI'), ('CVG', 'MCO'), ('CVG', 'PHL'), ('CVG', 'PIT'), ('CVG', 'PUJ'), ('CVG', 'RDU'), ('CVG', 'RIC'), ('CVG', 'RSW'), ('CVG', 'SFO'), ('CVG', 'SLC'), ('CVG', 'TPA'), ('CZM', 'ATL'), ('DAB', 'ATL'), ('DAY', 'ATL'), ('DAY', 'DTW'), ('DAY', 'MSP'), ('DCA', 'ATL'), ('DCA', 'DTW'), ('DCA', 'MSP'), ('DCA', 'SLC'), ('DEN', 'ATL'), ('DEN', 'DTW'), ('DEN', 'JFK'), ('DEN', 'LGA'), ('DEN', 'MSP'), ('DEN', 'SLC'), ('DFW', 'ATL'), ('DFW', 'DTW'), ('DFW', 'LGA'), ('DFW', 'MEX'), ('DFW', 'MSP'), ('DFW', 'SLC'), ('DSM', 'ATL'), ('DUB', 'ATL'), ('DUB', 'JFK'), ('DUS', 'ATL'), ('DXB', 'ATL'), ('ECP', 'ATL'), ('ELP', 'ATL'), ('EYW', 'ATL'), ('EYW', 'LGA'), ('EZE', 'ATL'), ('FAY', 'ATL'), ('FCO', 'ATL'), ('FCO', 'JFK'), ('FLL', 'ATL'), ('FLL', 'CVG'), ('FLL', 'DTW'), ('FLL', 'JFK'), ('FLL', 'LGA'), ('FLL', 'MSP'), ('FNT', 'ATL'), ('FPO', 'ATL'), ('FRA', 'ATL'), ('FRA', 'DTW'), ('FRA', 'JFK'), ('GCM', 'ATL'), ('GCM', 'DTW'), ('GDL', 'ATL'), ('GDL', 'LAX'), ('GDL', 'ORD'), ('GIG', 'ATL'), ('GNV', 'ATL'), ('GPT', 'ATL'), ('GRR', 'ATL'), ('GRR', 'CVG'), ('GRR', 'DTW'), ('GRR', 'MSP'), ('GRU', 'ATL'), ('GRU', 'DTW'), ('GRU', 'JFK'), ('GSO', 'ATL'), ('GSP', 'ATL'), ('GUA', 'ATL'), ('GUA', 'JFK'), ('GUA', 'LAX'), ('HNL', 'ATL'), ('HNL', 'FUK'), ('HNL', 'KIX'), ('HNL', 'LAX'), ('HNL', 'NGO'), ('HNL', 'NRT'), ('HNL', 'SEA'), ('HNL', 'SFO'), ('HNL', 'SLC'), ('HOU', 'ATL'), ('HSV', 'ATL'), ('IAD', 'ATL'), ('IAD', 'CDG'), ('IAD', 'DTW'), ('IAD', 'MEX'), ('IAD', 'SVO'), ('IAH', 'ATL'), ('IAH', 'DTW'), ('IAH', 'MEX'), ('IAH', 'SLC'), ('ICT', 'ATL'), ('ILM', 'ATL'), ('IND', 'ATL'), ('IND', 'CUN'), ('IND', 'DTW'), ('IND', 'LAX'), ('IND', 'LGA'), ('IND', 'MBJ'), ('IND', 'MSP'), ('IND', 'RSW'), ('IND', 'SLC'), ('JAN', 'ATL'), ('JAX', 'ATL'), ('JAX', 'LGA'), ('JNB', 'ATL'), ('KIN', 'ATL'), ('LAS', 'ATL'), ('LAS', 'BOS'), ('LAS', 'CVG'), ('LAS', 'DTW'), ('LAS', 'JFK'), ('LAS', 'LAX'), ('LAS', 'MCO'), ('LAS', 'MEM'), ('LAS', 'MEX'), ('LAS', 'MSP'), ('LAS', 'RDU'), ('LAS', 'SLC'), ('LAX', 'ATL'), ('LAX', 'BNA'), ('LAX', 'BOS'), ('LAX', 'BZE'), ('LAX', 'CMH'), ('LAX', 'CUN'), ('LAX', 'CVG'), ('LAX', 'DTW'), ('LAX', 'GDL'), ('LAX', 'GUA'), ('LAX', 'HMO'), ('LAX', 'HND'), ('LAX', 'HNL'), ('LAX', 'IND'), ('LAX', 'JFK'), ('LAX', 'KOA'), ('LAX', 'LAS'), ('LAX', 'LIH'), ('LAX', 'LIR'), ('LAX', 'MCO'), ('LAX', 'MEM'), ('LAX', 'MEX'), ('LAX', 'MIA'), ('LAX', 'MSP'), ('LAX', 'MSY'), ('LAX', 'NRT'), ('LAX', 'OGG'), ('LAX', 'PVR'), ('LAX', 'RDU'), ('LAX', 'SEA'), ('LAX', 'SJO'), ('LAX', 'SLC'), ('LAX', 'SVO'), ('LAX', 'SYD'), ('LAX', 'TPA'), ('LEX', 'ATL'), ('LEX', 'LGA'), ('LGA', 'ATL'), ('LGA', 'AUA'), ('LGA', 'BGR'), ('LGA', 'BTV'), ('LGA', 'BUF'), ('LGA', 'CHS'), ('LGA', 'CLT'), ('LGA', 'CVG'), ('LGA', 'DEN'), ('LGA', 'DFW'), ('LGA', 'DTW'), ('LGA', 'EYW'), ('LGA', 'FLL'), ('LGA', 'GSO'), ('LGA', 'IND'), ('LGA', 'JAX'), ('LGA', 'MCO'), ('LGA', 'MHT'), ('LGA', 'MIA'), ('LGA', 'MKE'), ('LGA', 'MSN'), ('LGA', 'MSP'), ('LGA', 'MSY'), ('LGA', 'PBI'), ('LGA', 'PWM'), ('LGA', 'RDU'), ('LGA', 'RIC'), ('LGA', 'SAV'), ('LGA', 'SDF'), ('LGA', 'SRQ'), ('LGA', 'STL'), ('LGA', 'SYR'), ('LGA', 'TPA'), ('LHR', 'ATL'), ('LHR', 'BOS'), ('LHR', 'DTW'), ('LHR', 'JFK'), ('LHR', 'MSP'), ('LHR', 'SEA'), ('LIM', 'ATL'), ('LIR', 'ATL'), ('LIR', 'JFK'), ('LIR', 'LAX'), ('LIT', 'ATL'), ('LOS', 'ATL'), ('MAD', 'ATL'), ('MAD', 'JFK'), ('MAN', 'ATL'), ('MBJ', 'ATL'), ('MBJ', 'DTW'), ('MBJ', 'IND'), ('MBJ', 'JFK'), ('MCI', 'ATL'), ('MCI', 'CVG'), ('MCI', 'DTW'), ('MCI', 'MEM'), ('MCI', 'MSP'), ('MCI', 'SLC'), ('MCO', 'ATL'), ('MCO', 'BOS'), ('MCO', 'CUN'), ('MCO', 'CVG'), ('MCO', 'DTW'), ('MCO', 'JFK'), ('MCO', 'LAS'), ('MCO', 'LAX'), ('MCO', 'LGA'), ('MCO', 'MEM'), ('MCO', 'MEX'), ('MCO', 'MKE'), ('MCO', 'MSP'), ('MCO', 'SLC'), ('MDT', 'ATL'), ('MDW', 'ATL'), ('MEM', 'ATL'), ('MEM', 'LAS'), ('MEM', 'LAX'), ('MEM', 'MCO'), ('MEM', 'MSP'), ('MEM', 'PIT'), ('MEM', 'SLC'), ('MEX', 'ACA'), ('MEX', 'ATL'), ('MEX', 'DFW'), ('MEX', 'DTW'), ('MEX', 'IAD'), ('MEX', 'IAH'), ('MEX', 'JFK'), ('MEX', 'LAS'), ('MEX', 'LAX'), ('MEX', 'MCO'), ('MEX', 'MIA'), ('MEX', 'MID'), ('MEX', 'ORD'), ('MEX', 'SAT'), ('MEX', 'SFO'), ('MEX', 'VSA'), ('MGA', 'ATL'), ('MHT', 'ATL'), ('MHT', 'DTW'), ('MHT', 'LGA'), ('MIA', 'ATL'), ('MIA', 'DTW'), ('MIA', 'JFK'), ('MIA', 'LAX'), ('MIA', 'LGA'), ('MIA', 'MEX'), ('MIA', 'MID'), ('MIA', 'MSP'), ('MIA', 'PAP'), ('MIA', 'SVO'), ('MKE', 'ATL'), ('MKE', 'DTW'), ('MKE', 'LGA'), ('MKE', 'MCO'), ('MKE', 'MSP'), ('MLB', 'ATL'), ('MOB', 'ATL'), ('MSN', 'ATL'), ('MSN', 'DTW'), ('MSN', 'LGA'), ('MSN', 'MSP'), ('MSY', 'ATL'), ('MSY', 'DTW'), ('MSY', 'LAX'), ('MSY', 'LGA'), ('MSY', 'SLC'), ('MUC', 'ATL'), ('MYR', 'ATL'), ('NAS', 'ATL'), ('NAS', 'DTW'), ('NAS', 'JFK'), ('NRT', 'ATL'), ('NRT', 'BKK'), ('NRT', 'DTW'), ('NRT', 'GUM'), ('NRT', 'HKG'), ('NRT', 'HNL'), ('NRT', 'JFK'), ('NRT', 'LAX'), ('NRT', 'MNL'), ('NRT', 'MSP'), ('NRT', 'PDX'), ('NRT', 'PVG'), ('NRT', 'ROR'), ('NRT', 'SEA'), ('NRT', 'SIN'), ('NRT', 'SPN'), ('NRT', 'TPE'), ('OKC', 'ATL'), ('OMA', 'ATL'), ('OMA', 'DTW'), ('OMA', 'MSP'), ('ORD', 'ATL'), ('ORD', 'CDG'), ('ORD', 'CVG'), ('ORD', 'DTW'), ('ORD', 'FCO'), ('ORD', 'GDL'), ('ORD', 'MEX'), ('ORD', 'MSP'), ('ORF', 'ATL'), ('ORF', 'DTW'), ('ORF', 'JFK'), ('PAP', 'ATL'), ('PAP', 'JFK'), ('PAP', 'MIA'), ('PBI', 'ATL'), ('PBI', 'DTW'), ('PBI', 'LGA'), ('PHL', 'ATL'), ('PHL', 'CDG'), ('PHL', 'CVG'), ('PHL', 'DTW'), ('PHL', 'JFK'), ('PHL', 'MSP'), ('PHL', 'SLC'), ('PHX', 'ATL'), ('PHX', 'DTW'), ('PHX', 'HMO'), ('PHX', 'JFK'), ('PHX', 'MSP'), ('PHX', 'SLC'), ('PIT', 'ATL'), ('PIT', 'CDG'), ('PIT', 'CVG'), ('PIT', 'DTW'), ('PIT', 'JFK'), ('PIT', 'LGA'), ('PIT', 'MEM'), ('PIT', 'MSP'), ('PIT', 'PUJ'), ('PLS', 'ATL'), ('PLS', 'BOS'), ('PLS', 'JFK'), ('PNS', 'ATL'), ('PTY', 'ATL'), ('PUJ', 'ATL'), ('PUJ', 'CVG'), ('PUJ', 'DTW'), ('PUJ', 'JFK'), ('PUJ', 'PIT'), ('PVD', 'ATL'), ('PVD', 'DTW'), ('PVR', 'ATL'), ('PVR', 'LAX'), ('RDU', 'ATL'), ('RDU', 'BWI'), ('RDU', 'CUN'), ('RDU', 'CVG'), ('RDU', 'DTW'), ('RDU', 'LAS'), ('RDU', 'LAX'), ('RDU', 'LGA'), ('RDU', 'MSP'), ('RDU', 'SLC'), ('RIC', 'ATL'), ('RIC', 'CVG'), ('RIC', 'DTW'), ('RIC', 'JFK'), ('RIC', 'LGA'), ('ROA', 'ATL'), ('ROC', 'ATL'), ('ROC', 'JFK'), ('ROC', 'LGA'), ('RSW', 'ATL'), ('RSW', 'CVG'), ('RSW', 'DTW'), ('RSW', 'IND'), ('RSW', 'MSP'), ('RTB', 'ATL'), ('SAL', 'ATL'), ('SAN', 'ATL'), ('SAN', 'DTW'), ('SAN', 'JFK'), ('SAN', 'MSP'), ('SAN', 'SLC'), ('SAP', 'ATL'), ('SAT', 'ATL'), ('SAT', 'DTW'), ('SAT', 'JFK'), ('SAT', 'MEX'), ('SAT', 'SLC'), ('SAV', 'ATL'), ('SAV', 'DTW'), ('SAV', 'JFK'), ('SCL', 'ATL'), ('SDF', 'ATL'), ('SDF', 'DTW'), ('SDF', 'LGA'), ('SDQ', 'ATL'), ('SDQ', 'JFK'), ('SFO', 'ATL'), ('SFO', 'CVG'), ('SFO', 'DTW'), ('SFO', 'HNL'), ('SFO', 'JFK'), ('SFO', 'MEX'), ('SFO', 'MSP'), ('SFO', 'PVG'), ('SFO', 'SLC'), ('SJC', 'ATL'), ('SJC', 'MSP'), ('SJC', 'SLC'), ('SJD', 'ATL'), ('SJO', 'ATL'), ('SJO', 'JFK'), ('SJO', 'LAX'), ('SJU', 'ATL'), ('SJU', 'DTW'), ('SJU', 'JFK'), ('SMF', 'ATL'), ('SMF', 'MSP'), ('SMF', 'SLC'), ('SNA', 'ATL'), ('SNA', 'MSP'), ('SNA', 'SLC'), ('SRQ', 'ATL'), ('SRQ', 'LGA'), ('STL', 'ATL'), ('STL', 'CVG'), ('STL', 'DTW'), ('STL', 'LGA'), ('STL', 'MSP'), ('STL', 'SLC'), ('STR', 'ATL'), ('STT', 'ATL'), ('STT', 'JFK'), ('SXM', 'ATL'), ('SXM', 'JFK'), ('SYR', 'ATL'), ('SYR', 'DTW'), ('SYR', 'JFK'), ('SYR', 'LGA'), ('TGU', 'ATL'), ('TLH', 'ATL'), ('TPA', 'ATL'), ('TPA', 'CVG'), ('TPA', 'DTW'), ('TPA', 'JFK'), ('TPA', 'LAX'), ('TPA', 'LGA'), ('TPA', 'MSP'), ('TRI', 'ATL'), ('TUL', 'ATL'), ('TUS', 'ATL'), ('TUS', 'MSP'), ('TYS', 'ATL'), ('UIO', 'ATL'), ('UVF', 'ATL'), ('VPS', 'ATL'), ('XNA', 'ATL'), ('ZRH', 'ATL'), ('AZO', 'DTW'), ('BCN', 'JFK'), ('BGR', 'LGA'), ('BIL', 'MSP'), ('BKK', 'NRT'), ('BOI', 'MSP'), ('BOI', 'SLC'), ('BTV', 'LGA'), ('BZN', 'MSP'), ('CUL', 'HMO'), ('CUL', 'MTY'), ('HMO', 'CUL'), ('HMO', 'LAX'), ('HMO', 'MEX'), ('HMO', 'PHX'), ('MTY', 'CUL'), ('MTY', 'CUU'), ('MTY', 'DTW'), ('MTY', 'LAS'), ('DAL', 'ATL'), ('DKR', 'JFK'), ('ERI', 'DTW'), ('GRB', 'DTW'), ('ICN', 'DTW'), ('ICN', 'JFK'), ('NGO', 'DTW'), ('NGO', 'GUM'), ('NGO', 'HNL'), ('NGO', 'MNL'), ('PEK', 'DTW'), ('PEK', 'SEA'), ('PVG', 'DTW'), ('PVG', 'JFK'), ('PVG', 'NRT'), ('PVG', 'SEA'), ('PVG', 'SFO'), ('TVC', 'DTW'), ('EKO', 'SLC'), ('FAR', 'MSP'), ('FSD', 'MSP'), ('FUK', 'HNL'), ('GEG', 'MSP'), ('GEG', 'SLC'), ('GND', 'JFK'), ('GUM', 'KIX'), ('GUM', 'NGO'), ('GUM', 'NRT'), ('KIX', 'GUM'), ('KIX', 'HNL'), ('HKG', 'NRT'), ('HND', 'LAX'), ('HND', 'SEA'), ('SVO', 'IAD'), ('SVO', 'JFK'), ('SVO', 'LAX'), ('SVO', 'MIA'), ('MXP', 'JFK'), ('NCE', 'JFK'), ('STI', 'JFK'), ('TLV', 'JFK'), ('VCE', 'JFK'), ('YUL', 'DTW'), ('YUL', 'JFK'), ('YUL', 'LGA'), ('YYZ', 'ATL'), ('YYZ', 'JFK'), ('KOA', 'LAX'), ('LIH', 'LAX'), ('OGG', 'LAX'), ('SYD', 'LAX'), ('MID', 'MEX'), ('MID', 'MIA'), ('MNL', 'NGO'), ('MNL', 'NRT'), ('MSO', 'MSP'), ('PSP', 'MSP'), ('YYC', 'MSP'), ('ROR', 'NRT'), ('SIN', 'NRT'), ('SPN', 'NGO'), ('SPN', 'NRT'), ('TPE', 'NRT'), ('OAK', 'SLC'), ('ONT', 'SLC'), ('RNO', 'SLC')])"
      ]
     },
     "execution_count": 32,
     "metadata": {},
     "output_type": "execute_result"
    }
   ],
   "source": [
    "print('There are %s edges in the graph \\n' % len(d_flights.edges()))\n",
    "d_flights.edges()"
   ]
  },
  {
   "cell_type": "markdown",
   "metadata": {},
   "source": [
    "### 2. Which is the most important airport in Delta's network? Support your answer using appropriate network metrics"
   ]
  },
  {
   "cell_type": "code",
   "execution_count": 36,
   "metadata": {},
   "outputs": [
    {
     "data": {
      "text/plain": [
       "('ATL', 337)"
      ]
     },
     "execution_count": 36,
     "metadata": {},
     "output_type": "execute_result"
    }
   ],
   "source": [
    "# highest degree centrality\n",
    "dg = d_flights.degree()\n",
    "max(dg, key=lambda x: x[1])"
   ]
  },
  {
   "cell_type": "code",
   "execution_count": 38,
   "metadata": {},
   "outputs": [
    {
     "data": {
      "text/plain": [
       "('ATL', 34059.840376790504)"
      ]
     },
     "execution_count": 38,
     "metadata": {},
     "output_type": "execute_result"
    }
   ],
   "source": [
    "# highest betweenness centrality\n",
    "btwn = nx.betweenness_centrality(d_flights, normalized=False)\n",
    "max(btwn.items(), key= lambda x: x[1])"
   ]
  },
  {
   "cell_type": "code",
   "execution_count": 39,
   "metadata": {},
   "outputs": [
    {
     "data": {
      "text/plain": [
       "('ATL', 0.7811656148255589)"
      ]
     },
     "execution_count": 39,
     "metadata": {},
     "output_type": "execute_result"
    }
   ],
   "source": [
    "# highest closeness centrality\n",
    "cls = nx.closeness_centrality(d_flights)\n",
    "max(cls.items(), key= lambda x: x[1])"
   ]
  },
  {
   "cell_type": "markdown",
   "metadata": {},
   "source": [
    "### 3. How many flights are needed to reach Honolulu?"
   ]
  },
  {
   "cell_type": "code",
   "execution_count": 43,
   "metadata": {},
   "outputs": [
    {
     "data": {
      "text/plain": [
       "2"
      ]
     },
     "execution_count": 43,
     "metadata": {},
     "output_type": "execute_result"
    }
   ],
   "source": [
    "nx.shortest_path_length(d_flights,'LEX', 'HNL')"
   ]
  },
  {
   "cell_type": "markdown",
   "metadata": {},
   "source": [
    "### 4. What is the maximum number of flights needed to reach any destination in Delta's network?"
   ]
  },
  {
   "cell_type": "code",
   "execution_count": 44,
   "metadata": {},
   "outputs": [
    {
     "data": {
      "text/plain": [
       "{'LEX': 0,\n",
       " 'ATL': 1,\n",
       " 'LGA': 1,\n",
       " 'ABE': 2,\n",
       " 'ABQ': 2,\n",
       " 'AGS': 2,\n",
       " 'ALB': 2,\n",
       " 'AMS': 2,\n",
       " 'AUA': 2,\n",
       " 'AUS': 2,\n",
       " 'AVL': 2,\n",
       " 'BDA': 2,\n",
       " 'BDL': 2,\n",
       " 'BHM': 2,\n",
       " 'BNA': 2,\n",
       " 'BOG': 2,\n",
       " 'BON': 2,\n",
       " 'BOS': 2,\n",
       " 'BRU': 2,\n",
       " 'BSB': 2,\n",
       " 'BTR': 2,\n",
       " 'BUF': 2,\n",
       " 'BWI': 2,\n",
       " 'BZE': 2,\n",
       " 'CAE': 2,\n",
       " 'CAK': 2,\n",
       " 'CCS': 2,\n",
       " 'CDG': 2,\n",
       " 'CHA': 2,\n",
       " 'CHS': 2,\n",
       " 'CLE': 2,\n",
       " 'CLT': 2,\n",
       " 'CMH': 2,\n",
       " 'COS': 2,\n",
       " 'CRW': 2,\n",
       " 'CUN': 2,\n",
       " 'CVG': 2,\n",
       " 'CZM': 2,\n",
       " 'DAB': 2,\n",
       " 'DAY': 2,\n",
       " 'DCA': 2,\n",
       " 'DEN': 2,\n",
       " 'DFW': 2,\n",
       " 'DSM': 2,\n",
       " 'DTW': 2,\n",
       " 'DUB': 2,\n",
       " 'DUS': 2,\n",
       " 'DXB': 2,\n",
       " 'ECP': 2,\n",
       " 'ELP': 2,\n",
       " 'EWR': 2,\n",
       " 'EYW': 2,\n",
       " 'EZE': 2,\n",
       " 'FAY': 2,\n",
       " 'FCO': 2,\n",
       " 'FLL': 2,\n",
       " 'FNT': 2,\n",
       " 'FPO': 2,\n",
       " 'FRA': 2,\n",
       " 'GCM': 2,\n",
       " 'GDL': 2,\n",
       " 'GIG': 2,\n",
       " 'GNV': 2,\n",
       " 'GPT': 2,\n",
       " 'GRR': 2,\n",
       " 'GRU': 2,\n",
       " 'GSO': 2,\n",
       " 'GSP': 2,\n",
       " 'GUA': 2,\n",
       " 'HNL': 2,\n",
       " 'HOU': 2,\n",
       " 'HSV': 2,\n",
       " 'IAD': 2,\n",
       " 'IAH': 2,\n",
       " 'ICT': 2,\n",
       " 'ILM': 2,\n",
       " 'IND': 2,\n",
       " 'JAN': 2,\n",
       " 'JAX': 2,\n",
       " 'JFK': 2,\n",
       " 'JNB': 2,\n",
       " 'KIN': 2,\n",
       " 'LAS': 2,\n",
       " 'LAX': 2,\n",
       " 'LHR': 2,\n",
       " 'LIM': 2,\n",
       " 'LIR': 2,\n",
       " 'LIT': 2,\n",
       " 'LOS': 2,\n",
       " 'MAD': 2,\n",
       " 'MAN': 2,\n",
       " 'MBJ': 2,\n",
       " 'MCI': 2,\n",
       " 'MCO': 2,\n",
       " 'MDT': 2,\n",
       " 'MDW': 2,\n",
       " 'MEM': 2,\n",
       " 'MEX': 2,\n",
       " 'MGA': 2,\n",
       " 'MHT': 2,\n",
       " 'MIA': 2,\n",
       " 'MKE': 2,\n",
       " 'MLB': 2,\n",
       " 'MOB': 2,\n",
       " 'MSN': 2,\n",
       " 'MSP': 2,\n",
       " 'MSY': 2,\n",
       " 'MUC': 2,\n",
       " 'MYR': 2,\n",
       " 'NAS': 2,\n",
       " 'NRT': 2,\n",
       " 'OKC': 2,\n",
       " 'OMA': 2,\n",
       " 'ORD': 2,\n",
       " 'ORF': 2,\n",
       " 'PAP': 2,\n",
       " 'PBI': 2,\n",
       " 'PDX': 2,\n",
       " 'PHL': 2,\n",
       " 'PHX': 2,\n",
       " 'PIT': 2,\n",
       " 'PLS': 2,\n",
       " 'PNS': 2,\n",
       " 'PTY': 2,\n",
       " 'PUJ': 2,\n",
       " 'PVD': 2,\n",
       " 'PVR': 2,\n",
       " 'PWM': 2,\n",
       " 'RDU': 2,\n",
       " 'RIC': 2,\n",
       " 'ROA': 2,\n",
       " 'ROC': 2,\n",
       " 'RSW': 2,\n",
       " 'RTB': 2,\n",
       " 'SAL': 2,\n",
       " 'SAN': 2,\n",
       " 'SAP': 2,\n",
       " 'SAT': 2,\n",
       " 'SAV': 2,\n",
       " 'SCL': 2,\n",
       " 'SDF': 2,\n",
       " 'SDQ': 2,\n",
       " 'SEA': 2,\n",
       " 'SFO': 2,\n",
       " 'SJC': 2,\n",
       " 'SJD': 2,\n",
       " 'SJO': 2,\n",
       " 'SJU': 2,\n",
       " 'SLC': 2,\n",
       " 'SMF': 2,\n",
       " 'SNA': 2,\n",
       " 'SRQ': 2,\n",
       " 'STL': 2,\n",
       " 'STR': 2,\n",
       " 'STT': 2,\n",
       " 'SXM': 2,\n",
       " 'SYR': 2,\n",
       " 'TGU': 2,\n",
       " 'TLH': 2,\n",
       " 'TPA': 2,\n",
       " 'TRI': 2,\n",
       " 'TUL': 2,\n",
       " 'TUS': 2,\n",
       " 'TYS': 2,\n",
       " 'UIO': 2,\n",
       " 'UVF': 2,\n",
       " 'VPS': 2,\n",
       " 'XNA': 2,\n",
       " 'ZRH': 2,\n",
       " 'BGR': 2,\n",
       " 'BTV': 2,\n",
       " 'BOM': 3,\n",
       " 'AZO': 3,\n",
       " 'ERI': 3,\n",
       " 'GRB': 3,\n",
       " 'ICN': 3,\n",
       " 'MTY': 3,\n",
       " 'NGO': 3,\n",
       " 'PEK': 3,\n",
       " 'PVG': 3,\n",
       " 'TVC': 3,\n",
       " 'FUK': 3,\n",
       " 'KIX': 3,\n",
       " 'SVO': 3,\n",
       " 'ACC': 3,\n",
       " 'BCN': 3,\n",
       " 'DKR': 3,\n",
       " 'GND': 3,\n",
       " 'MXP': 3,\n",
       " 'NCE': 3,\n",
       " 'STI': 3,\n",
       " 'TLV': 3,\n",
       " 'VCE': 3,\n",
       " 'YUL': 3,\n",
       " 'YYZ': 3,\n",
       " 'HMO': 3,\n",
       " 'HND': 3,\n",
       " 'KOA': 3,\n",
       " 'LIH': 3,\n",
       " 'OGG': 3,\n",
       " 'SYD': 3,\n",
       " 'ACA': 3,\n",
       " 'MID': 3,\n",
       " 'VSA': 3,\n",
       " 'ANC': 3,\n",
       " 'BIL': 3,\n",
       " 'BOI': 3,\n",
       " 'BZN': 3,\n",
       " 'FAR': 3,\n",
       " 'FSD': 3,\n",
       " 'GEG': 3,\n",
       " 'MSO': 3,\n",
       " 'PSP': 3,\n",
       " 'YYC': 3,\n",
       " 'BKK': 3,\n",
       " 'GUM': 3,\n",
       " 'HKG': 3,\n",
       " 'MNL': 3,\n",
       " 'ROR': 3,\n",
       " 'SIN': 3,\n",
       " 'SPN': 3,\n",
       " 'TPE': 3,\n",
       " 'EKO': 3,\n",
       " 'OAK': 3,\n",
       " 'ONT': 3,\n",
       " 'RNO': 3,\n",
       " 'CUL': 4,\n",
       " 'CUU': 4,\n",
       " 'ROB': 4}"
      ]
     },
     "execution_count": 44,
     "metadata": {},
     "output_type": "execute_result"
    }
   ],
   "source": [
    "# from lexington to all destinations\n",
    "#d_paths = nx.single_source_shortest_path_length(d_flights, 'LEX')\n",
    "d_paths = nx.shortest_path_length(d_flights, 'LEX')\n",
    "d_paths"
   ]
  },
  {
   "cell_type": "code",
   "execution_count": 45,
   "metadata": {},
   "outputs": [
    {
     "data": {
      "text/plain": [
       "4"
      ]
     },
     "execution_count": 45,
     "metadata": {},
     "output_type": "execute_result"
    }
   ],
   "source": [
    "max(d_paths.values())"
   ]
  },
  {
   "cell_type": "markdown",
   "metadata": {},
   "source": [
    "### 5. Convert the network into a weighted network, using the travel time as the weight. Assume that planes fly at 500 mph, plus 30 minutes to take off + 30 minutes to land."
   ]
  },
  {
   "cell_type": "code",
   "execution_count": 47,
   "metadata": {},
   "outputs": [],
   "source": [
    "from math import radians, cos, sin, asin, sqrt\n",
    "def haversine(lat1, lon1, lat2, lon2):\n",
    "    \"\"\"\n",
    "    Calculate the great circle distance between two points \n",
    "    on the earth (specified in decimal degrees)\n",
    "    \n",
    "    returns answer in  kilometre\n",
    "    \"\"\"\n",
    "    # convert decimal degrees to radians \n",
    "    lon1, lat1, lon2, lat2 = map(radians, [lon1, lat1, lon2, lat2])\n",
    "    # haversine formula \n",
    "    dlon = lon2 - lon1 \n",
    "    dlat = lat2 - lat1 \n",
    "    a = sin(dlat/2)**2 + cos(lat1) * cos(lat2) * sin(dlon/2)**2\n",
    "    c = 2 * asin(sqrt(a)) \n",
    "    # Radius of earth in kilometers is 6371\n",
    "    km = 6371*c\n",
    "    return km"
   ]
  },
  {
   "cell_type": "code",
   "execution_count": 48,
   "metadata": {},
   "outputs": [
    {
     "data": {
      "text/html": [
       "<div>\n",
       "<style scoped>\n",
       "    .dataframe tbody tr th:only-of-type {\n",
       "        vertical-align: middle;\n",
       "    }\n",
       "\n",
       "    .dataframe tbody tr th {\n",
       "        vertical-align: top;\n",
       "    }\n",
       "\n",
       "    .dataframe thead th {\n",
       "        text-align: right;\n",
       "    }\n",
       "</style>\n",
       "<table border=\"1\" class=\"dataframe\">\n",
       "  <thead>\n",
       "    <tr style=\"text-align: right;\">\n",
       "      <th></th>\n",
       "      <th>Unnamed: 0</th>\n",
       "      <th>airline</th>\n",
       "      <th>airline_id</th>\n",
       "      <th>source</th>\n",
       "      <th>source_id</th>\n",
       "      <th>dest</th>\n",
       "      <th>dest_id</th>\n",
       "      <th>codeshare</th>\n",
       "      <th>stops</th>\n",
       "      <th>equipment</th>\n",
       "      <th>latitude_source</th>\n",
       "      <th>longitude_source</th>\n",
       "      <th>latitude_dest</th>\n",
       "      <th>longitude_dest</th>\n",
       "      <th>d_flight_distance</th>\n",
       "    </tr>\n",
       "  </thead>\n",
       "  <tbody>\n",
       "    <tr>\n",
       "      <th>0</th>\n",
       "      <td>0</td>\n",
       "      <td>DL</td>\n",
       "      <td>2009.0</td>\n",
       "      <td>ABE</td>\n",
       "      <td>4355.0</td>\n",
       "      <td>ATL</td>\n",
       "      <td>3682.0</td>\n",
       "      <td>NaN</td>\n",
       "      <td>0</td>\n",
       "      <td>717</td>\n",
       "      <td>40.652100</td>\n",
       "      <td>-75.440804</td>\n",
       "      <td>33.636700</td>\n",
       "      <td>-84.428101</td>\n",
       "      <td>1113.751937</td>\n",
       "    </tr>\n",
       "    <tr>\n",
       "      <th>1</th>\n",
       "      <td>1</td>\n",
       "      <td>DL</td>\n",
       "      <td>2009.0</td>\n",
       "      <td>ABQ</td>\n",
       "      <td>4019.0</td>\n",
       "      <td>ATL</td>\n",
       "      <td>3682.0</td>\n",
       "      <td>NaN</td>\n",
       "      <td>0</td>\n",
       "      <td>757 320</td>\n",
       "      <td>35.040199</td>\n",
       "      <td>-106.609001</td>\n",
       "      <td>33.636700</td>\n",
       "      <td>-84.428101</td>\n",
       "      <td>2038.333355</td>\n",
       "    </tr>\n",
       "    <tr>\n",
       "      <th>2</th>\n",
       "      <td>2</td>\n",
       "      <td>DL</td>\n",
       "      <td>2009.0</td>\n",
       "      <td>ABQ</td>\n",
       "      <td>4019.0</td>\n",
       "      <td>MSP</td>\n",
       "      <td>3858.0</td>\n",
       "      <td>NaN</td>\n",
       "      <td>0</td>\n",
       "      <td>320</td>\n",
       "      <td>35.040199</td>\n",
       "      <td>-106.609001</td>\n",
       "      <td>44.882000</td>\n",
       "      <td>-93.221802</td>\n",
       "      <td>1577.032376</td>\n",
       "    </tr>\n",
       "    <tr>\n",
       "      <th>3</th>\n",
       "      <td>3</td>\n",
       "      <td>DL</td>\n",
       "      <td>2009.0</td>\n",
       "      <td>ACC</td>\n",
       "      <td>248.0</td>\n",
       "      <td>JFK</td>\n",
       "      <td>3797.0</td>\n",
       "      <td>NaN</td>\n",
       "      <td>0</td>\n",
       "      <td>76W</td>\n",
       "      <td>5.605190</td>\n",
       "      <td>-0.166786</td>\n",
       "      <td>40.639801</td>\n",
       "      <td>-73.778900</td>\n",
       "      <td>8221.492599</td>\n",
       "    </tr>\n",
       "    <tr>\n",
       "      <th>4</th>\n",
       "      <td>4</td>\n",
       "      <td>DL</td>\n",
       "      <td>2009.0</td>\n",
       "      <td>ACC</td>\n",
       "      <td>248.0</td>\n",
       "      <td>ROB</td>\n",
       "      <td>1063.0</td>\n",
       "      <td>NaN</td>\n",
       "      <td>0</td>\n",
       "      <td>76W</td>\n",
       "      <td>5.605190</td>\n",
       "      <td>-0.166786</td>\n",
       "      <td>6.233790</td>\n",
       "      <td>-10.362300</td>\n",
       "      <td>1129.786897</td>\n",
       "    </tr>\n",
       "  </tbody>\n",
       "</table>\n",
       "</div>"
      ],
      "text/plain": [
       "   Unnamed: 0 airline  airline_id source  source_id dest  dest_id  codeshare  \\\n",
       "0           0      DL      2009.0    ABE     4355.0  ATL   3682.0        NaN   \n",
       "1           1      DL      2009.0    ABQ     4019.0  ATL   3682.0        NaN   \n",
       "2           2      DL      2009.0    ABQ     4019.0  MSP   3858.0        NaN   \n",
       "3           3      DL      2009.0    ACC      248.0  JFK   3797.0        NaN   \n",
       "4           4      DL      2009.0    ACC      248.0  ROB   1063.0        NaN   \n",
       "\n",
       "   stops equipment  latitude_source  longitude_source  latitude_dest  \\\n",
       "0      0       717        40.652100        -75.440804      33.636700   \n",
       "1      0   757 320        35.040199       -106.609001      33.636700   \n",
       "2      0       320        35.040199       -106.609001      44.882000   \n",
       "3      0       76W         5.605190         -0.166786      40.639801   \n",
       "4      0       76W         5.605190         -0.166786       6.233790   \n",
       "\n",
       "   longitude_dest  d_flight_distance  \n",
       "0      -84.428101        1113.751937  \n",
       "1      -84.428101        2038.333355  \n",
       "2      -93.221802        1577.032376  \n",
       "3      -73.778900        8221.492599  \n",
       "4      -10.362300        1129.786897  "
      ]
     },
     "execution_count": 48,
     "metadata": {},
     "output_type": "execute_result"
    }
   ],
   "source": [
    "# calculate distance for each row and save value in new column\n",
    "routes['d_flight_distance'] = routes.apply(lambda row: \n",
    "                                           haversine(row['latitude_source'], row['longitude_source'],\n",
    "                                                     row['latitude_dest'], row['longitude_dest']), axis=1)\n",
    "\n",
    "routes.head()"
   ]
  },
  {
   "cell_type": "code",
   "execution_count": 49,
   "metadata": {},
   "outputs": [
    {
     "data": {
      "text/plain": [
       "OutEdgeDataView([('ABE', 'ATL', {'time': 2.3841063098702993}), ('ATL', 'ABE', {'time': 2.3841063098702993}), ('ATL', 'ABQ', {'time': 3.53312246979812}), ('ATL', 'AGS', {'time': 1.286251303161165}), ('ATL', 'ALB', {'time': 2.7052182239250184}), ('ATL', 'AMS', {'time': 9.780953407328111}), ('ATL', 'AUA', {'time': 4.43886103692965}), ('ATL', 'AUS', {'time': 2.623010261148364}), ('ATL', 'AVL', {'time': 1.3285284535741473}), ('ATL', 'BDA', {'time': 3.2920709841673923}), ('ATL', 'BDL', {'time': 2.717866385283927}), ('ATL', 'BHM', {'time': 1.2678395072388164}), ('ATL', 'BNA', {'time': 1.428041518244498}), ('ATL', 'BOG', {'time': 5.211319762029894}), ('ATL', 'BON', {'time': 4.6031863177114705}), ('ATL', 'BOS', {'time': 2.8908987662199985}), ('ATL', 'BRU', {'time': 9.83095439950117}), ('ATL', 'BSB', {'time': 9.362039336163901}), ('ATL', 'BTR', {'time': 1.8959290486404539}), ('ATL', 'BUF', {'time': 2.425502915390384}), ('ATL', 'BWI', {'time': 2.1526814360260076}), ('ATL', 'BZE', {'time': 3.275855002368389}), ('ATL', 'CAE', {'time': 1.3822531780238632}), ('ATL', 'CAK', {'time': 2.057949298986175}), ('ATL', 'CCS', {'time': 4.87394076356942}), ('ATL', 'CDG', {'time': 9.768447589862566}), ('ATL', 'CHA', {'time': 1.2125698626388273}), ('ATL', 'CHS', {'time': 1.517058920070209}), ('ATL', 'CLE', {'time': 2.1107828263978075}), ('ATL', 'CLT', {'time': 1.4530628035183994}), ('ATL', 'CMH', {'time': 1.895278349120958}), ('ATL', 'COS', {'time': 3.3643639106724383}), ('ATL', 'CRW', {'time': 1.7270872297299071}), ('ATL', 'CUN', {'time': 2.766753591177336}), ('ATL', 'CVG', {'time': 1.7483547976834806}), ('ATL', 'CZM', {'time': 2.8378868968280386}), ('ATL', 'DAB', {'time': 1.7328606687047057}), ('ATL', 'DAY', {'time': 1.866143320414034}), ('ATL', 'DCA', {'time': 2.093728944841038}), ('ATL', 'DEN', {'time': 3.3942889577192763}), ('ATL', 'DFW', {'time': 2.4596400764724327}), ('ATL', 'DSM', {'time': 2.4860358590772904}), ('ATL', 'DTW', {'time': 2.190792431173501}), ('ATL', 'DUB', {'time': 8.85773650922124}), ('ATL', 'DUS', {'time': 9.992954582775564}), ('ATL', 'DXB', {'time': 16.173113798668734}), ('ATL', 'ECP', {'time': 1.4806741345797474}), ('ATL', 'ELP', {'time': 3.5594948308392937}), ('ATL', 'EWR', {'time': 2.490440800877753}), ('ATL', 'EYW', {'time': 2.2953628616426314}), ('ATL', 'EZE', {'time': 11.036347304598351}), ('ATL', 'FAY', {'time': 1.6601830067794439}), ('ATL', 'FCO', {'time': 11.047999785184702}), ('ATL', 'FLL', {'time': 2.16375487931123}), ('ATL', 'FNT', {'time': 2.291223383625237}), ('ATL', 'FPO', {'time': 2.1937564500581646}), ('ATL', 'FRA', {'time': 10.208282970680118}), ('ATL', 'GCM', {'time': 3.0178706749057045}), ('ATL', 'GDL', {'time': 3.93765424426215}), ('ATL', 'GIG', {'time': 10.496405411262664}), ('ATL', 'GNV', {'time': 1.6014075200042674}), ('ATL', 'GPT', {'time': 1.7033602851975553}), ('ATL', 'GRR', {'time': 2.2828870321436527}), ('ATL', 'GRU', {'time': 10.33333153988897}), ('ATL', 'GSO', {'time': 1.6121828139355845}), ('ATL', 'GSP', {'time': 1.3064499478030005}), ('ATL', 'GUA', {'time': 3.74140259280418}), ('ATL', 'HNL', {'time': 9.989775605392987}), ('ATL', 'HOU', {'time': 2.3896103280539562}), ('ATL', 'HSV', {'time': 1.301941182951843}), ('ATL', 'IAD', {'time': 2.0675541015457597}), ('ATL', 'IAH', {'time': 2.3764145601904128}), ('ATL', 'ICT', {'time': 2.5604847628800096}), ('ATL', 'ILM', {'time': 1.7529584430861842}), ('ATL', 'IND', {'time': 1.8652781878550788}), ('ATL', 'JAN', {'time': 1.679764487764039}), ('ATL', 'JAX', {'time': 1.5399039053035786}), ('ATL', 'JFK', {'time': 2.5187468397148924}), ('ATL', 'JNB', {'time': 17.879652368546402}), ('ATL', 'KIN', {'time': 3.366721523164571}), ('ATL', 'LAS', {'time': 4.485677501971692}), ('ATL', 'LAX', {'time': 4.8845338267511895}), ('ATL', 'LEX', {'time': 1.6083191184967167}), ('ATL', 'LGA', {'time': 2.5221943519528156}), ('ATL', 'LHR', {'time': 9.401885172775792}), ('ATL', 'LIM', {'time': 7.382425020660568}), ('ATL', 'LIR', {'time': 4.1874294351234544}), ('ATL', 'LIT', {'time': 1.9036726828731687}), ('ATL', 'LOS', {'time': 12.676088856997906}), ('ATL', 'MAD', {'time': 9.651496310062935}), ('ATL', 'MAN', {'time': 9.178477470013718}), ('ATL', 'MBJ', {'time': 3.2405915551935403}), ('ATL', 'MCI', {'time': 2.3836385578574264}), ('ATL', 'MCO', {'time': 1.8086973245707572}), ('ATL', 'MDT', {'time': 2.2391798841199666}), ('ATL', 'MDW', {'time': 2.1830414327334107}), ('ATL', 'MEM', {'time': 1.662123706016641}), ('ATL', 'MEX', {'time': 3.6636863783128617}), ('ATL', 'MGA', {'time': 3.9784484114125327}), ('ATL', 'MHT', {'time': 2.902722219044284}), ('ATL', 'MIA', {'time': 2.1918697488309293}), ('ATL', 'MKE', {'time': 2.3401150480492303}), ('ATL', 'MLB', {'time': 1.8864267442860236}), ('ATL', 'MOB', {'time': 1.60389131438249}), ('ATL', 'MSN', {'time': 2.416106443714446}), ('ATL', 'MSP', {'time': 2.8140530698369153}), ('ATL', 'MSY', {'time': 1.849503531289212}), ('ATL', 'MUC', {'time': 10.571557926604912}), ('ATL', 'MYR', {'time': 1.6325449337516478}), ('ATL', 'NAS', {'time': 2.453310535453083}), ('ATL', 'NRT', {'time': 14.672966459752155}), ('ATL', 'OKC', {'time': 2.518189816702147}), ('ATL', 'OMA', {'time': 2.6417209621667617}), ('ATL', 'ORD', {'time': 2.2133236114361265}), ('ATL', 'ORF', {'time': 2.031111652690722}), ('ATL', 'PAP', {'time': 3.5636841015461176}), ('ATL', 'PBI', {'time': 2.0911252392757813}), ('ATL', 'PDX', {'time': 5.336127282292295}), ('ATL', 'PHL', {'time': 2.331713565322079}), ('ATL', 'PHX', {'time': 4.167850363736138}), ('ATL', 'PIT', {'time': 2.0538183348289287}), ('ATL', 'PLS', {'time': 3.2102332560221067}), ('ATL', 'PNS', {'time': 1.5434983287847728}), ('ATL', 'PTY', {'time': 4.454751191772112}), ('ATL', 'PUJ', {'time': 3.87502174627383}), ('ATL', 'PVD', {'time': 2.806228913805867}), ('ATL', 'PVR', {'time': 4.113956635016857}), ('ATL', 'PWM', {'time': 3.052694507543549}), ('ATL', 'RDU', {'time': 1.7111570907643974}), ('ATL', 'RIC', {'time': 1.960863203113735}), ('ATL', 'ROA', {'time': 1.7145789338058068}), ('ATL', 'ROC', {'time': 2.49958042277279}), ('ATL', 'RSW', {'time': 2.0318020014091687}), ('ATL', 'RTB', {'time': 3.4075403160766586}), ('ATL', 'SAL', {'time': 3.8507126513828127}), ('ATL', 'SAN', {'time': 4.775056584710214}), ('ATL', 'SAP', {'time': 3.5504040361445828}), ('ATL', 'SAT', {'time': 2.7456777228576374}), ('ATL', 'SAV', {'time': 1.4284984677919592}), ('ATL', 'SCL', {'time': 10.430510740027847}), ('ATL', 'SDF', {'time': 1.643888506955071}), ('ATL', 'SDQ', {'time': 3.7814967870676566}), ('ATL', 'SEA', {'time': 5.35578228258622}), ('ATL', 'SFO', {'time': 5.26846842027834}), ('ATL', 'SJC', {'time': 5.222392460291267}), ('ATL', 'SJD', {'time': 4.386417086728349}), ('ATL', 'SJO', {'time': 4.267242296796605}), ('ATL', 'SJU', {'time': 4.095598739214513}), ('ATL', 'SLC', {'time': 4.173471238234973}), ('ATL', 'SMF', {'time': 5.175296025248719}), ('ATL', 'SNA', {'time': 4.829229032518775}), ('ATL', 'SRQ', {'time': 1.8907845059081652}), ('ATL', 'STL', {'time': 1.9681027220910523}), ('ATL', 'STR', {'time': 10.341244550275627}), ('ATL', 'STT', {'time': 4.199827425553383}), ('ATL', 'SXM', {'time': 4.403672987640739}), ('ATL', 'SYR', {'time': 2.5877700299900104}), ('ATL', 'TGU', {'time': 3.72763066677022}), ('ATL', 'TLH', {'time': 1.4478449657260484}), ('ATL', 'TPA', {'time': 1.8139359994765574}), ('ATL', 'TRI', {'time': 1.4539538975183397}), ('ATL', 'TUL', {'time': 2.344973235220186}), ('ATL', 'TUS', {'time': 4.0757331915248045}), ('ATL', 'TYS', {'time': 1.3044764093195802}), ('ATL', 'UIO', {'time': 5.732085881012116}), ('ATL', 'UVF', {'time': 5.028484620874662}), ('ATL', 'VPS', {'time': 1.5001903875572071}), ('ATL', 'XNA', {'time': 2.176316963466202}), ('ATL', 'ZRH', {'time': 10.35972456089611}), ('ABQ', 'ATL', {'time': 3.53312246979812}), ('ABQ', 'MSP', {'time': 2.959844369318799}), ('MSP', 'ABQ', {'time': 2.959844369318799}), ('MSP', 'AMS', {'time': 9.307593537752677}), ('MSP', 'ANC', {'time': 6.023161858317739}), ('MSP', 'ATL', {'time': 2.8140530698369153}), ('MSP', 'BDL', {'time': 3.0955416529246955}), ('MSP', 'BIL', {'time': 2.4912181393289305}), ('MSP', 'BOI', {'time': 3.277374490687678}), ('MSP', 'BOS', {'time': 3.24219398774204}), ('MSP', 'BWI', {'time': 2.8686213730148893}), ('MSP', 'BZN', {'time': 2.742708970910838}), ('MSP', 'CDG', {'time': 9.419271131911902}), ('MSP', 'CLT', {'time': 2.8592329993368883}), ('MSP', 'CMH', {'time': 2.249599510370133}), ('MSP', 'CUN', {'time': 4.373581279820024}), ('MSP', 'DCA', {'time': 2.8577079550065805}), ('MSP', 'DEN', {'time': 2.3575123081269767}), ('MSP', 'DFW', {'time': 2.705760226325763}), ('MSP', 'DTW', {'time': 2.054149671376148}), ('MSP', 'EWR', {'time': 3.011658070549991}), ('MSP', 'FAR', {'time': 1.4458039476285744}), ('MSP', 'FLL', {'time': 3.977629756631701}), ('MSP', 'FSD', {'time': 1.3920601231170087}), ('MSP', 'GEG', {'time': 3.343808814962799}), ('MSP', 'GRR', {'time': 1.8147737642105297}), ('MSP', 'IAH', {'time': 3.0715411293244403}), ('MSP', 'IND', {'time': 2.0045934897727484}), ('MSP', 'JFK', {'time': 3.0521074957219}), ('MSP', 'LAS', {'time': 3.594554237149562}), ('MSP', 'LAX', {'time': 4.066210118149636}), ('MSP', 'LGA', {'time': 3.035697727191074}), ('MSP', 'LHR', {'time': 9.006887404969811}), ('MSP', 'MCI', {'time': 1.786671561704543}), ('MSP', 'MCO', {'time': 3.622729117969599}), ('MSP', 'MEM', {'time': 2.402142780229231}), ('MSP', 'MIA', {'time': 4.005043475161587}), ('MSP', 'MKE', {'time': 1.5935437494215914}), ('MSP', 'MSN', {'time': 1.4548727391181133}), ('MSP', 'MSO', {'time': 3.0203911784728548}), ('MSP', 'NRT', {'time': 12.871776038390564}), ('MSP', 'OMA', {'time': 1.5632038218821598}), ('MSP', 'ORD', {'time': 1.667346621281813}), ('MSP', 'PDX', {'time': 3.844251347579125}), ('MSP', 'PHL', {'time': 2.9566019756277884}), ('MSP', 'PHX', {'time': 3.549743515820582}), ('MSP', 'PIT', {'time': 2.4499592150415914}), ('MSP', 'PSP', {'time': 3.903467234071463}), ('MSP', 'RDU', {'time': 2.958756148307384}), ('MSP', 'RSW', {'time': 3.8362258459435226}), ('MSP', 'SAN', {'time': 4.060619863016484}), ('MSP', 'SDF', {'time': 2.206723801171507}), ('MSP', 'SEA', {'time': 3.789717780159272}), ('MSP', 'SFO', {'time': 4.170717312359621}), ('MSP', 'SJC', {'time': 4.1442007967016234}), ('MSP', 'SLC', {'time': 2.977865366124033}), ('MSP', 'SMF', {'time': 4.027884966405786}), ('MSP', 'SNA', {'time': 4.0394233043145205}), ('MSP', 'STL', {'time': 1.896827568162867}), ('MSP', 'TPA', {'time': 3.6156825917644464}), ('MSP', 'TUS', {'time': 3.593944025714571}), ('MSP', 'YYC', {'time': 3.097761161607821}), ('ACC', 'JFK', {'time': 11.217194155723}), ('ACC', 'ROB', {'time': 2.4040336277844165}), ('JFK', 'ACC', {'time': 11.217194155723}), ('JFK', 'AMS', {'time': 8.26696228732952}), ('JFK', 'ATL', {'time': 2.5187468397148924}), ('JFK', 'AUA', {'time': 4.915090052598879}), ('JFK', 'AUS', {'time': 4.039080024749591}), ('JFK', 'BCN', {'time': 8.643145622505923}), ('JFK', 'BDA', {'time': 2.524525675402435}), ('JFK', 'BNA', {'time': 2.5282759514955093}), ('JFK', 'BOG', {'time': 5.966389817396434}), ('JFK', 'BOS', {'time': 1.3730437796041626}), ('JFK', 'BRU', {'time': 8.314172250921658}), ('JFK', 'BUF', {'time': 1.6011109254338158}), ('JFK', 'BWI', {'time': 1.3670574510496105}), ('JFK', 'CDG', {'time': 8.249721570708646}), ('JFK', 'CHS', {'time': 2.2738201717753608}), ('JFK', 'CLE', {'time': 1.8478072949731923}), ('JFK', 'CLT', {'time': 2.081843212641293}), ('JFK', 'CMH', {'time': 1.9638042192397647}), ('JFK', 'CUN', {'time': 4.114733578885675}), ('JFK', 'CVG', {'time': 2.1752095410910517}), ('JFK', 'DCA', {'time': 1.4252889356539145}), ('JFK', 'DEN', {'time': 4.243285822556931}), ('JFK', 'DFW', {'time': 3.777399290714877}), ('JFK', 'DKR', {'time': 8.605823230913014}), ('JFK', 'DTW', {'time': 2.0149758839503527}), ('JFK', 'DUB', {'time': 7.3417406556995015}), ('JFK', 'FCO', {'time': 9.532296233791207}), ('JFK', 'FLL', {'time': 3.141603924474829}), ('JFK', 'FRA', {'time': 8.691874134209076}), ('JFK', 'GND', {'time': 5.216930139567168}), ('JFK', 'GRU', {'time': 10.524349020495643}), ('JFK', 'GUA', {'time': 5.126831581955277}), ('JFK', 'IAD', {'time': 1.4552411322088865}), ('JFK', 'ICN', {'time': 14.780505593260514}), ('JFK', 'IND', {'time': 2.326382777166448}), ('JFK', 'JAX', {'time': 2.6583997645497828}), ('JFK', 'LAS', {'time': 5.485406981722441}), ('JFK', 'LAX', {'time': 5.938901168871433}), ('JFK', 'LHR', {'time': 7.884348345109233}), ('JFK', 'LIR', {'time': 5.393495532489505}), ('JFK', 'MAD', {'time': 8.160903381646154}), ('JFK', 'MBJ', {'time': 4.098024504872754}), ('JFK', 'MCO', {'time': 2.890693529129783}), ('JFK', 'MEX', {'time': 5.182245292222027}), ('JFK', 'MIA', {'time': 3.1836487072070105}), ('JFK', 'MSP', {'time': 3.0521074957219}), ('JFK', 'MXP', {'time': 8.969389328761817}), ('JFK', 'NAS', {'time': 3.1973320957686124}), ('JFK', 'NCE', {'time': 8.96205079773059}), ('JFK', 'NRT', {'time': 14.459466362922308}), ('JFK', 'ORD', {'time': 2.4761732134900485}), ('JFK', 'ORF', {'time': 1.579554587543798}), ('JFK', 'PAP', {'time': 4.053467145954803}), ('JFK', 'PDX', {'time': 5.894994042309393}), ('JFK', 'PHL', {'time': 1.1871813079346296}), ('JFK', 'PHX', {'time': 5.297549801428195}), ('JFK', 'PIT', {'time': 1.6776667596034165}), ('JFK', 'PLS', {'time': 3.6130651963204676}), ('JFK', 'PUJ', {'time': 4.117061497135431}), ('JFK', 'PVG', {'time': 15.755901700990542}), ('JFK', 'RDU', {'time': 1.8531461624491534}), ('JFK', 'RIC', {'time': 1.5760177294975972}), ('JFK', 'ROC', {'time': 1.5269917142360185}), ('JFK', 'SAN', {'time': 5.881537304033995}), ('JFK', 'SAT', {'time': 4.170052149136976}), ('JFK', 'SAV', {'time': 2.4359529813567073}), ('JFK', 'SDF', {'time': 2.3201490613470694}), ('JFK', 'SDQ', {'time': 4.107686829876876}), ('JFK', 'SEA', {'time': 5.830088167414247}), ('JFK', 'SFO', {'time': 6.159599162717235}), ('JFK', 'SJO', {'time': 5.42289955337753}), ('JFK', 'SJU', {'time': 4.203691032100686}), ('JFK', 'SLC', {'time': 4.9688232677562505}), ('JFK', 'STI', {'time': 3.9581247095486307}), ('JFK', 'STL', {'time': 2.7806334695333628}), ('JFK', 'STT', {'time': 4.2544557120233755}), ('JFK', 'SVO', {'time': 10.29684744234655}), ('JFK', 'SXM', {'time': 4.370611335823149}), ('JFK', 'SYR', {'time': 1.4170680561544966}), ('JFK', 'TLV', {'time': 12.330131878289524}), ('JFK', 'TPA', {'time': 3.012650936547943}), ('JFK', 'VCE', {'time': 9.286903257645362}), ('JFK', 'YUL', {'time': 1.6675627913271236}), ('JFK', 'YYZ', {'time': 1.731473133806372}), ('ROB', 'ACC', {'time': 2.4040336277844165}), ('AGS', 'ATL', {'time': 1.286251303161165}), ('ALB', 'ATL', {'time': 2.7052182239250184}), ('AMS', 'ATL', {'time': 9.780953407328111}), ('AMS', 'BOM', {'time': 9.52460646146599}), ('AMS', 'BOS', {'time': 7.893928654732122}), ('AMS', 'DTW', {'time': 8.858608917716507}), ('AMS', 'EWR', {'time': 8.292984759931699}), ('AMS', 'JFK', {'time': 8.26696228732952}), ('AMS', 'MSP', {'time': 9.307593537752677}), ('AMS', 'PDX', {'time': 10.977744083486813}), ('AMS', 'SEA', {'time': 10.743095466875197}), ('BOM', 'AMS', {'time': 9.52460646146599}), ('BOS', 'AMS', {'time': 7.893928654732122}), ('BOS', 'ATL', {'time': 2.8908987662199985}), ('BOS', 'BDA', {'time': 2.5456111529467975}), ('BOS', 'CDG', {'time': 7.877667155264954}), ('BOS', 'CMH', {'time': 2.277561253063438}), ('BOS', 'CUN', {'time': 4.474930482716774}), ('BOS', 'CVG', {'time': 2.500761161919664}), ('BOS', 'DTW', {'time': 2.26137194748679}), ('BOS', 'JFK', {'time': 1.3730437796041626}), ('BOS', 'LAS', {'time': 5.750593613740348}), ('BOS', 'LAX', {'time': 6.210853354208304}), ('BOS', 'LHR', {'time': 7.511532778719705}), ('BOS', 'MCO', {'time': 3.2443606885539755}), ('BOS', 'MSP', {'time': 3.24219398774204}), ('BOS', 'PLS', {'time': 3.8490958536579}), ('BOS', 'RDU', {'time': 2.223490567345457}), ('BOS', 'SLC', {'time': 5.199913729065891}), ('DTW', 'AMS', {'time': 8.858608917716507}), ('DTW', 'ATL', {'time': 2.190792431173501}), ('DTW', 'AUS', {'time': 3.2972400633831627}), ('DTW', 'AZO', {'time': 1.2250103011258808}), ('DTW', 'BDL', {'time': 2.094385829823262}), ('DTW', 'BNA', {'time': 1.9133658139496237}), ('DTW', 'BOS', {'time': 2.26137194748679}), ('DTW', 'BUF', {'time': 1.4808157198839784}), ('DTW', 'BWI', {'time': 1.8161557421057786}), ('DTW', 'CDG', {'time': 8.902679542044927}), ('DTW', 'CLT', {'time': 2.001272432094997}), ('DTW', 'CMH', {'time': 1.3097486540078365}), ('DTW', 'CUN', {'time': 3.954738069421564}), ('DTW', 'CVG', {'time': 1.4583668863609982}), ('DTW', 'DAY', {'time': 1.3317144658348798}), ('DTW', 'DCA', {'time': 1.8093356376712602}), ('DTW', 'DEN', {'time': 3.2397898819102533}), ('DTW', 'DFW', {'time': 2.9715093009773197}), ('DTW', 'ERI', {'time': 1.3262259619374381}), ('DTW', 'EWR', {'time': 1.9736567184506462}), ('DTW', 'FLL', {'time': 3.2596744312799637}), ('DTW', 'FRA', {'time': 9.300617219675267}), ('DTW', 'GCM', {'time': 4.1757909851621875}), ('DTW', 'GRB', {'time': 1.5734191907960167}), ('DTW', 'GRR', {'time': 1.2393833613593703}), ('DTW', 'GRU', {'time': 11.21989257343649}), ('DTW', 'IAD', {'time': 1.7658899710980114}), ('DTW', 'IAH', {'time': 3.1510281839671745}), ('DTW', 'ICN', {'time': 14.24072339632853}), ('DTW', 'IND', {'time': 1.4615183847366695}), ('DTW', 'JFK', {'time': 2.0149758839503527}), ('DTW', 'LAS', {'time': 4.489643948318855}), ('DTW', 'LAX', {'time': 4.94948142870113}), ('DTW', 'LEX', {'time': 1.5920143916426357}), ('DTW', 'LGA', {'time': 2.0005748773614496}), ('DTW', 'LHR', {'time': 8.511742374862056}), ('DTW', 'MBJ', {'time': 4.337968763660298}), ('DTW', 'MCI', {'time': 2.254369200411796}), ('DTW', 'MCO', {'time': 2.9183552330193807}), ('DTW', 'MEM', {'time': 2.2209654000550203}), ('DTW', 'MEX', {'time': 4.644683086289367}), ('DTW', 'MIA', {'time': 3.2954445106412154}), ('DTW', 'MKE', {'time': 1.473233409369939}), ('DTW', 'MSN', {'time': 1.6211668116564582}), ('DTW', 'MSP', {'time': 2.054149671376148}), ('DTW', 'MSY', {'time': 2.8545089484210897}), ('DTW', 'MTY', {'time': 3.9619403689013373}), ('DTW', 'NAS', {'time': 3.4662693334127277}), ('DTW', 'NGO', {'time': 14.074655252387945}), ('DTW', 'NRT', {'time': 13.76565057314857}), ('DTW', 'OMA', {'time': 2.2976309228857157}), ('DTW', 'ORD', {'time': 1.4677540106696365}), ('DTW', 'ORF', {'time': 2.057888744838201}), ('DTW', 'PBI', {'time': 3.1773305743625615}), ('DTW', 'PDX', {'time': 4.8959284503443605}), ('DTW', 'PEK', {'time': 14.231041449502136}), ('DTW', 'PHL', {'time': 1.9047810910329106}), ('DTW', 'PHX', {'time': 4.335494237797472}), ('DTW', 'PIT', {'time': 1.401612199199239}), ('DTW', 'PUJ', {'time': 4.710941700588976}), ('DTW', 'PVD', {'time': 2.226748394436754}), ('DTW', 'PVG', {'time': 15.244119221171621}), ('DTW', 'RDU', {'time': 2.0028180293232962}), ('DTW', 'RIC', {'time': 1.912075734399676}), ('DTW', 'RSW', {'time': 3.1737811603654085}), ('DTW', 'SAN', {'time': 4.904921205491107}), ('DTW', 'SAT', {'time': 3.4287498346830896}), ('DTW', 'SDF', {'time': 1.6119859151087088}), ('DTW', 'SEA', {'time': 4.843810401539283}), ('DTW', 'SFO', {'time': 5.147459286055231}), ('DTW', 'SJU', {'time': 4.8653923575796085}), ('DTW', 'SLC', {'time': 3.9551056847946087}), ('DTW', 'STL', {'time': 1.8787436457855824}), ('DTW', 'SYR', {'time': 1.7465857458015845}), ('DTW', 'TPA', {'time': 2.9695051587485874}), ('DTW', 'TVC', {'time': 1.4147875521099933}), ('EWR', 'AMS', {'time': 8.292984759931699}), ('EWR', 'ATL', {'time': 2.490440800877753}), ('EWR', 'CDG', {'time': 8.27820317130386}), ('EWR', 'DTW', {'time': 1.9736567184506462}), ('EWR', 'MSP', {'time': 3.011658070549991}), ('EWR', 'SLC', {'time': 4.9273707431689076}), ('PDX', 'AMS', {'time': 10.977744083486813}), ('PDX', 'ATL', {'time': 5.336127282292295}), ('PDX', 'DTW', {'time': 4.8959284503443605}), ('PDX', 'JFK', {'time': 5.894994042309393}), ('PDX', 'MSP', {'time': 3.844251347579125}), ('PDX', 'NRT', {'time': 10.621444514334176}), ('PDX', 'SLC', {'time': 2.257347675974909}), ('SEA', 'AMS', {'time': 10.743095466875197}), ('SEA', 'ATL', {'time': 5.35578228258622}), ('SEA', 'CDG', {'time': 11.0030229668575}), ('SEA', 'DTW', {'time': 4.843810401539283}), ('SEA', 'HND', {'time': 10.58362845847448}), ('SEA', 'HNL', {'time': 6.353646478616459}), ('SEA', 'JFK', {'time': 5.830088167414247}), ('SEA', 'LAX', {'time': 2.909982258666125}), ('SEA', 'LHR', {'time': 10.571702300099274}), ('SEA', 'MSP', {'time': 3.789717780159272}), ('SEA', 'NRT', {'time': 10.514365068505182}), ('SEA', 'PEK', {'time': 11.785933413156794}), ('SEA', 'PVG', {'time': 12.418096940696616}), ('SEA', 'SLC', {'time': 2.375360627379233}), ('ANC', 'MSP', {'time': 6.023161858317739}), ('ANC', 'SLC', {'time': 5.241420907418696}), ('SLC', 'ANC', {'time': 5.241420907418696}), ('SLC', 'ATL', {'time': 4.173471238234973}), ('SLC', 'AUS', {'time': 3.170578479700052}), ('SLC', 'BOI', {'time': 1.579627690660234}), ('SLC', 'BOS', {'time': 5.199913729065891}), ('SLC', 'BWI', {'time': 4.720138734809092}), ('SLC', 'CDG', {'time': 11.132318864951252}), ('SLC', 'CLT', {'time': 4.446861772711079}), ('SLC', 'CUN', {'time': 5.010528600803406}), ('SLC', 'CVG', {'time': 3.892659209289584}), ('SLC', 'DCA', {'time': 4.693509748054998}), ('SLC', 'DEN', {'time': 1.779932233254576}), ('SLC', 'DFW', {'time': 2.975294124649908}), ('SLC', 'DTW', {'time': 3.9551056847946087}), ('SLC', 'EKO', {'time': 1.3989302303759177}), ('SLC', 'EWR', {'time': 4.9273707431689076}), ('SLC', 'GEG', {'time': 2.092062992316986}), ('SLC', 'HNL', {'time': 6.9814304311916}), ('SLC', 'IAH', {'time': 3.3889837886994894}), ('SLC', 'IND', {'time': 3.7030563555939096}), ('SLC', 'JFK', {'time': 4.9688232677562505}), ('SLC', 'LAS', {'time': 1.735626955437476}), ('SLC', 'LAX', {'time': 2.1797552434478353}), ('SLC', 'MCI', {'time': 2.8349420136407453}), ('SLC', 'MCO', {'time': 4.856580597280606}), ('SLC', 'MEM', {'time': 3.518520719435033}), ('SLC', 'MSP', {'time': 2.977865366124033}), ('SLC', 'MSY', {'time': 3.853630608373311}), ('SLC', 'OAK', {'time': 2.174215476755945}), ('SLC', 'ONT', {'time': 2.1157932621865996}), ('SLC', 'PDX', {'time': 2.257347675974909}), ('SLC', 'PHL', {'time': 4.843570554950206}), ('SLC', 'PHX', {'time': 2.016244898196107}), ('SLC', 'RDU', {'time': 4.638649079078329}), ('SLC', 'RNO', {'time': 1.8416435058642324}), ('SLC', 'SAN', {'time': 2.2531149781308026}), ('SLC', 'SAT', {'time': 3.1737915468861253}), ('SLC', 'SEA', {'time': 2.375360627379233}), ('SLC', 'SFO', {'time': 2.1954079547914658}), ('SLC', 'SJC', {'time': 2.1668465744310423}), ('SLC', 'SMF', {'time': 2.0609589625356817}), ('SLC', 'SNA', {'time': 2.1766017272749982}), ('SLC', 'STL', {'time': 3.306398601957028}), ('AUA', 'ATL', {'time': 4.43886103692965}), ('AUA', 'JFK', {'time': 4.915090052598879}), ('AUA', 'LGA', {'time': 4.935237800339388}), ('AUS', 'ATL', {'time': 2.623010261148364}), ('AUS', 'DTW', {'time': 3.2972400633831627}), ('AUS', 'JFK', {'time': 4.039080024749591}), ('AUS', 'MSP', {'time': 3.0864404823918963}), ('AUS', 'SLC', {'time': 3.170578479700052}), ('AVL', 'ATL', {'time': 1.3285284535741473}), ('BDA', 'ATL', {'time': 3.2920709841673923}), ('BDA', 'BOS', {'time': 2.5456111529467975}), ('BDA', 'JFK', {'time': 2.524525675402435}), ('BDL', 'ATL', {'time': 2.717866385283927}), ('BDL', 'DTW', {'time': 2.094385829823262}), ('BDL', 'MSP', {'time': 3.0955416529246955}), ('BHM', 'ATL', {'time': 1.2678395072388164}), ('BNA', 'ATL', {'time': 1.428041518244498}), ('BNA', 'DTW', {'time': 1.9133658139496237}), ('BNA', 'LAX', {'time': 4.586950130990677}), ('BOG', 'ATL', {'time': 5.211319762029894}), ('BOG', 'JFK', {'time': 5.966389817396434}), ('BON', 'ATL', {'time': 4.6031863177114705}), ('BRU', 'ATL', {'time': 9.83095439950117}), ('BRU', 'JFK', {'time': 8.314172250921658}), ('BSB', 'ATL', {'time': 9.362039336163901}), ('BTR', 'ATL', {'time': 1.8959290486404539}), ('BUF', 'ATL', {'time': 2.425502915390384}), ('BUF', 'DTW', {'time': 1.4808157198839784}), ('BUF', 'LGA', {'time': 1.582535489112328}), ('BWI', 'ATL', {'time': 2.1526814360260076}), ('BWI', 'CVG', {'time': 1.8576137046087708}), ('BWI', 'DTW', {'time': 1.8161557421057786}), ('BWI', 'MSP', {'time': 2.8686213730148893}), ('BWI', 'RDU', {'time': 1.5114374614320816}), ('BWI', 'SLC', {'time': 4.720138734809092}), ('BZE', 'ATL', {'time': 3.275855002368389}), ('BZE', 'LAX', {'time': 5.353045457624135}), ('CAE', 'ATL', {'time': 1.3822531780238632}), ('CAK', 'ATL', {'time': 2.057949298986175}), ('CCS', 'ATL', {'time': 4.87394076356942}), ('CDG', 'ATL', {'time': 9.768447589862566}), ('CDG', 'BOS', {'time': 7.877667155264954}), ('CDG', 'CVG', {'time': 9.288723893442944}), ('CDG', 'DTW', {'time': 8.902679542044927}), ('CDG', 'EWR', {'time': 8.27820317130386}), ('CDG', 'JFK', {'time': 8.249721570708646}), ('CDG', 'LAX', {'time': 12.312066169527235}), ('CDG', 'MSP', {'time': 9.419271131911902}), ('CDG', 'PHL', {'time': 8.436734098215759}), ('CDG', 'PIT', {'time': 8.799162596956183}), ('CDG', 'SEA', {'time': 11.0030229668575}), ('CDG', 'SLC', {'time': 11.132318864951252}), ('CHA', 'ATL', {'time': 1.2125698626388273}), ('CHS', 'ATL', {'time': 1.517058920070209}), ('CHS', 'DTW', {'time': 2.336926775902139}), ('CHS', 'JFK', {'time': 2.2738201717753608}), ('CHS', 'LGA', {'time': 2.283935583453589}), ('CLE', 'ATL', {'time': 2.1107828263978075}), ('CLE', 'DTW', {'time': 1.190324428694102}), ('CLE', 'JFK', {'time': 1.8478072949731923}), ('CLE', 'MSP', {'time': 2.2413868731051982}), ('CLT', 'ATL', {'time': 1.4530628035183994}), ('CLT', 'DTW', {'time': 2.001272432094997}), ('CLT', 'LGA', {'time': 2.0873095813178617}), ('CLT', 'MSP', {'time': 2.8592329993368883}), ('CLT', 'SLC', {'time': 4.446861772711079}), ('CMH', 'ATL', {'time': 1.895278349120958}), ('CMH', 'BOS', {'time': 2.277561253063438}), ('CMH', 'LAX', {'time': 4.9818275893842445}), ('CMH', 'LGA', {'time': 1.9549700280111253}), ('COS', 'ATL', {'time': 3.3643639106724383}), ('CRW', 'ATL', {'time': 1.7270872297299071}), ('CUN', 'ATL', {'time': 2.766753591177336}), ('CUN', 'BOS', {'time': 4.474930482716774}), ('CUN', 'CVG', {'time': 3.5028176990648925}), ('CUN', 'DTW', {'time': 3.954738069421564}), ('CUN', 'IND', {'time': 3.5823538161921755}), ('CUN', 'JFK', {'time': 4.114733578885675}), ('CUN', 'LAX', {'time': 5.233551172807001}), ('CUN', 'MCO', {'time': 2.237289846431455}), ('CUN', 'MSP', {'time': 4.373581279820024}), ('CUN', 'RDU', {'time': 3.2718489988901585}), ('CUN', 'SLC', {'time': 5.010528600803406}), ('CVG', 'ATL', {'time': 1.7483547976834806}), ('CVG', 'BOS', {'time': 2.500761161919664}), ('CVG', 'CDG', {'time': 9.288723893442944}), ('CVG', 'CUN', {'time': 3.5028176990648925}), ('CVG', 'FLL', {'time': 2.8679378557104123}), ('CVG', 'GRR', {'time': 1.5369845564175968}), ('CVG', 'LAS', {'time': 4.348420309503459}), ('CVG', 'LAX', {'time': 4.791516153792376}), ('CVG', 'LGA', {'time': 2.1680505536144166}), ('CVG', 'MCI', {'time': 2.076211929977314}), ('CVG', 'MCO', {'time': 2.5170351846790933}), ('CVG', 'PHL', {'time': 2.0116547350127463}), ('CVG', 'PIT', {'time': 1.5114138693887536}), ('CVG', 'PUJ', {'time': 4.438304580645546}), ('CVG', 'RDU', {'time': 1.7794901734770374}), ('CVG', 'RIC', {'time': 1.8248981228383134}), ('CVG', 'RSW', {'time': 2.761573258405134}), ('CVG', 'SFO', {'time': 5.0626819903639735}), ('CVG', 'SLC', {'time': 3.892659209289584}), ('CVG', 'TPA', {'time': 2.5496786091501256}), ('CZM', 'ATL', {'time': 2.8378868968280386}), ('DAB', 'ATL', {'time': 1.7328606687047057}), ('DAY', 'ATL', {'time': 1.866143320414034}), ('DAY', 'DTW', {'time': 1.3317144658348798}), ('DAY', 'MSP', {'time': 2.1467223679983407}), ('DCA', 'ATL', {'time': 2.093728944841038}), ('DCA', 'DTW', {'time': 1.8093356376712602}), ('DCA', 'MSP', {'time': 2.8577079550065805}), ('DCA', 'SLC', {'time': 4.693509748054998}), ('DEN', 'ATL', {'time': 3.3942889577192763}), ('DEN', 'DTW', {'time': 3.2397898819102533}), ('DEN', 'JFK', {'time': 4.243285822556931}), ('DEN', 'LGA', {'time': 4.230892640983447}), ('DEN', 'MSP', {'time': 2.3575123081269767}), ('DEN', 'SLC', {'time': 1.779932233254576}), ('DFW', 'ATL', {'time': 2.4596400764724327}), ('DFW', 'DTW', {'time': 2.9715093009773197}), ('DFW', 'LGA', {'time': 3.7730043130500186}), ('DFW', 'MEX', {'time': 2.876955958078822}), ('DFW', 'MSP', {'time': 2.705760226325763}), ('DFW', 'SLC', {'time': 2.975294124649908}), ('DSM', 'ATL', {'time': 2.4860358590772904}), ('DUB', 'ATL', {'time': 8.85773650922124}), ('DUB', 'JFK', {'time': 7.3417406556995015}), ('DUS', 'ATL', {'time': 9.992954582775564}), ('DXB', 'ATL', {'time': 16.173113798668734}), ('ECP', 'ATL', {'time': 1.4806741345797474}), ('ELP', 'ATL', {'time': 3.5594948308392937}), ('EYW', 'ATL', {'time': 2.2953628616426314}), ('EYW', 'LGA', {'time': 3.4193541384661876}), ('EZE', 'ATL', {'time': 11.036347304598351}), ('FAY', 'ATL', {'time': 1.6601830067794439}), ('FCO', 'ATL', {'time': 11.047999785184702}), ('FCO', 'JFK', {'time': 9.532296233791207}), ('FLL', 'ATL', {'time': 2.16375487931123}), ('FLL', 'CVG', {'time': 2.8679378557104123}), ('FLL', 'DTW', {'time': 3.2596744312799637}), ('FLL', 'JFK', {'time': 3.141603924474829}), ('FLL', 'LGA', {'time': 3.1556238938932557}), ('FLL', 'MSP', {'time': 3.977629756631701}), ('FNT', 'ATL', {'time': 2.291223383625237}), ('FPO', 'ATL', {'time': 2.1937564500581646}), ('FRA', 'ATL', {'time': 10.208282970680118}), ('FRA', 'DTW', {'time': 9.300617219675267}), ('FRA', 'JFK', {'time': 8.691874134209076}), ('GCM', 'ATL', {'time': 3.0178706749057045}), ('GCM', 'DTW', {'time': 4.1757909851621875}), ('GDL', 'ATL', {'time': 3.93765424426215}), ('GDL', 'LAX', {'time': 3.616824759492579}), ('GDL', 'ORD', {'time': 4.466478487300206}), ('GIG', 'ATL', {'time': 10.496405411262664}), ('GNV', 'ATL', {'time': 1.6014075200042674}), ('GPT', 'ATL', {'time': 1.7033602851975553}), ('GRR', 'ATL', {'time': 2.2828870321436527}), ('GRR', 'CVG', {'time': 1.5369845564175968}), ('GRR', 'DTW', {'time': 1.2393833613593703}), ('GRR', 'MSP', {'time': 1.8147737642105297}), ('GRU', 'ATL', {'time': 10.33333153988897}), ('GRU', 'DTW', {'time': 11.21989257343649}), ('GRU', 'JFK', {'time': 10.524349020495643}), ('GSO', 'ATL', {'time': 1.6121828139355845}), ('GSP', 'ATL', {'time': 1.3064499478030005}), ('GUA', 'ATL', {'time': 3.74140259280418}), ('GUA', 'JFK', {'time': 5.126831581955277}), ('GUA', 'LAX', {'time': 5.3887283724259625}), ('HNL', 'ATL', {'time': 9.989775605392987}), ('HNL', 'FUK', {'time': 9.779010563116326}), ('HNL', 'KIX', {'time': 9.219456322165897}), ('HNL', 'LAX', {'time': 6.105337539735496}), ('HNL', 'NGO', {'time': 9.036995802773571}), ('HNL', 'NRT', {'time': 8.625725337870842}), ('HNL', 'SEA', {'time': 6.353646478616459}), ('HNL', 'SFO', {'time': 5.793038642339936}), ('HNL', 'SLC', {'time': 6.9814304311916}), ('HOU', 'ATL', {'time': 2.3896103280539562}), ('HSV', 'ATL', {'time': 1.301941182951843}), ('IAD', 'ATL', {'time': 2.0675541015457597}), ('IAD', 'CDG', {'time': 8.701950503633695}), ('IAD', 'DTW', {'time': 1.7658899710980114}), ('IAD', 'MEX', {'time': 4.730930889860298}), ('IAD', 'SVO', {'time': 10.70777467994618}), ('IAH', 'ATL', {'time': 2.3764145601904128}), ('IAH', 'DTW', {'time': 3.1510281839671745}), ('IAH', 'MEX', {'time': 2.530659079685689}), ('IAH', 'SLC', {'time': 3.3889837886994894}), ('ICT', 'ATL', {'time': 2.5604847628800096}), ('ILM', 'ATL', {'time': 1.7529584430861842}), ('IND', 'ATL', {'time': 1.8652781878550788}), ('IND', 'CUN', {'time': 3.5823538161921755}), ('IND', 'DTW', {'time': 1.4615183847366695}), ('IND', 'LAX', {'time': 4.619955668093437}), ('IND', 'LGA', {'time': 2.31719816116427}), ('IND', 'MBJ', {'time': 4.09741561208641}), ('IND', 'MSP', {'time': 2.0045934897727484}), ('IND', 'RSW', {'time': 2.8949426173444097}), ('IND', 'SLC', {'time': 3.7030563555939096}), ('JAN', 'ATL', {'time': 1.679764487764039}), ('JAX', 'ATL', {'time': 1.5399039053035786}), ('JAX', 'LGA', {'time': 2.6685157510252697}), ('JNB', 'ATL', {'time': 17.879652368546402}), ('KIN', 'ATL', {'time': 3.366721523164571}), ('LAS', 'ATL', {'time': 4.485677501971692}), ('LAS', 'BOS', {'time': 5.750593613740348}), ('LAS', 'CVG', {'time': 4.348420309503459}), ('LAS', 'DTW', {'time': 4.489643948318855}), ('LAS', 'JFK', {'time': 5.485406981722441}), ('LAS', 'LAX', {'time': 1.472234843343044}), ('LAS', 'MCO', {'time': 5.071338331059777}), ('LAS', 'MEM', {'time': 3.825805724550607}), ('LAS', 'MEX', {'time': 4.016718548753065}), ('LAS', 'MSP', {'time': 3.594554237149562}), ('LAS', 'RDU', {'time': 5.042414042909168}), ('LAS', 'SLC', {'time': 1.735626955437476}), ('LAX', 'ATL', {'time': 4.8845338267511895}), ('LAX', 'BNA', {'time': 4.586950130990677}), ('LAX', 'BOS', {'time': 6.210853354208304}), ('LAX', 'BZE', {'time': 5.353045457624135}), ('LAX', 'CMH', {'time': 4.9818275893842445}), ('LAX', 'CUN', {'time': 5.233551172807001}), ('LAX', 'CVG', {'time': 4.791516153792376}), ('LAX', 'DTW', {'time': 4.94948142870113}), ('LAX', 'GDL', {'time': 3.616824759492579}), ('LAX', 'GUA', {'time': 5.3887283724259625}), ('LAX', 'HMO', {'time': 2.094989312193598}), ('LAX', 'HND', {'time': 11.95153315181147}), ('LAX', 'HNL', {'time': 6.105337539735496}), ('LAX', 'IND', {'time': 4.619955668093437}), ('LAX', 'JFK', {'time': 5.938901168871433}), ('LAX', 'KOA', {'time': 6.002867429056246}), ('LAX', 'LAS', {'time': 1.472234843343044}), ('LAX', 'LIH', {'time': 6.223267421027663}), ('LAX', 'LIR', {'time': 6.256317138246031}), ('LAX', 'MCO', {'time': 5.42703807667803}), ('LAX', 'MEM', {'time': 4.230772586785632}), ('LAX', 'MEX', {'time': 4.10685690670927}), ('LAX', 'MIA', {'time': 5.675975704413893}), ('LAX', 'MSP', {'time': 4.066210118149636}), ('LAX', 'MSY', {'time': 4.33409656937072}), ('LAX', 'NRT', {'time': 11.878733697430757}), ('LAX', 'OGG', {'time': 5.965268417187289}), ('LAX', 'PVR', {'time': 3.4379842034509056}), ('LAX', 'RDU', {'time': 5.46707522707426}), ('LAX', 'SEA', {'time': 2.909982258666125}), ('LAX', 'SJO', {'time': 6.445729631257236}), ('LAX', 'SLC', {'time': 2.1797552434478353}), ('LAX', 'SVO', {'time': 13.126031181998508}), ('LAX', 'SYD', {'time': 15.98887014098545}), ('LAX', 'TPA', {'time': 5.307874288482702}), ('LEX', 'ATL', {'time': 1.6083191184967167}), ('LEX', 'LGA', {'time': 2.2060078763245103}), ('LGA', 'ATL', {'time': 2.5221943519528156}), ('LGA', 'AUA', {'time': 4.935237800339388}), ('LGA', 'BGR', {'time': 1.7558852279618784}), ('LGA', 'BTV', {'time': 1.515763810936155}), ('LGA', 'BUF', {'time': 1.582535489112328}), ('LGA', 'CHS', {'time': 2.283935583453589}), ('LGA', 'CLT', {'time': 2.0873095813178617}), ('LGA', 'CVG', {'time': 2.1680505536144166}), ('LGA', 'DEN', {'time': 4.230892640983447}), ('LGA', 'DFW', {'time': 3.7730043130500186}), ('LGA', 'DTW', {'time': 2.0005748773614496}), ('LGA', 'EYW', {'time': 3.4193541384661876}), ('LGA', 'FLL', {'time': 3.1556238938932557}), ('LGA', 'GSO', {'time': 1.920976981123669}), ('LGA', 'IND', {'time': 2.31719816116427}), ('LGA', 'JAX', {'time': 2.6685157510252697}), ('LGA', 'MCO', {'time': 2.9025835804771676}), ('LGA', 'MHT', {'time': 1.3893518259433584}), ('LGA', 'MIA', {'time': 3.197636775971548}), ('LGA', 'MKE', {'time': 2.4722347512694984}), ('LGA', 'MSN', {'time': 2.619860491058909}), ('LGA', 'MSP', {'time': 3.035697727191074}), ('LGA', 'MSY', {'time': 3.3653977474176338}), ('LGA', 'PBI', {'time': 3.0732639550213596}), ('LGA', 'PWM', {'time': 1.5385831316634617}), ('LGA', 'RDU', {'time': 1.861230338002784}), ('LGA', 'RIC', {'time': 1.5837821542514692}), ('LGA', 'SAV', {'time': 2.44523181913656}), ('LGA', 'SDF', {'time': 2.314337209721172}), ('LGA', 'SRQ', {'time': 3.096528074433479}), ('LGA', 'STL', {'time': 2.771957389401906}), ('LGA', 'SYR', {'time': 1.3958608128740244}), ('LGA', 'TPA', {'time': 3.0235437320250176}), ('LHR', 'ATL', {'time': 9.401885172775792}), ('LHR', 'BOS', {'time': 7.511532778719705}), ('LHR', 'DTW', {'time': 8.511742374862056}), ('LHR', 'JFK', {'time': 7.884348345109233}), ('LHR', 'MSP', {'time': 9.006887404969811}), ('LHR', 'SEA', {'time': 10.571702300099274}), ('LIM', 'ATL', {'time': 7.382425020660568}), ('LIR', 'ATL', {'time': 4.1874294351234544}), ('LIR', 'JFK', {'time': 5.393495532489505}), ('LIR', 'LAX', {'time': 6.256317138246031}), ('LIT', 'ATL', {'time': 1.9036726828731687}), ('LOS', 'ATL', {'time': 12.676088856997906}), ('MAD', 'ATL', {'time': 9.651496310062935}), ('MAD', 'JFK', {'time': 8.160903381646154}), ('MAN', 'ATL', {'time': 9.178477470013718}), ('MBJ', 'ATL', {'time': 3.2405915551935403}), ('MBJ', 'DTW', {'time': 4.337968763660298}), ('MBJ', 'IND', {'time': 4.09741561208641}), ('MBJ', 'JFK', {'time': 4.098024504872754}), ('MCI', 'ATL', {'time': 2.3836385578574264}), ('MCI', 'CVG', {'time': 2.076211929977314}), ('MCI', 'DTW', {'time': 2.254369200411796}), ('MCI', 'MEM', {'time': 1.7857845928275384}), ('MCI', 'MSP', {'time': 1.786671561704543}), ('MCI', 'SLC', {'time': 2.8349420136407453}), ('MCO', 'ATL', {'time': 1.8086973245707572}), ('MCO', 'BOS', {'time': 3.2443606885539755}), ('MCO', 'CUN', {'time': 2.237289846431455}), ('MCO', 'CVG', {'time': 2.5170351846790933}), ('MCO', 'DTW', {'time': 2.9183552330193807}), ('MCO', 'JFK', {'time': 2.890693529129783}), ('MCO', 'LAS', {'time': 5.071338331059777}), ('MCO', 'LAX', {'time': 5.42703807667803}), ('MCO', 'LGA', {'time': 2.9025835804771676}), ('MCO', 'MEM', {'time': 2.3673888023413765}), ('MCO', 'MEX', {'time': 3.5602408178763945}), ('MCO', 'MKE', {'time': 3.136275552964577}), ('MCO', 'MSP', {'time': 3.622729117969599}), ('MCO', 'SLC', {'time': 4.856580597280606}), ('MDT', 'ATL', {'time': 2.2391798841199666}), ('MDW', 'ATL', {'time': 2.1830414327334107}), ('MEM', 'ATL', {'time': 1.662123706016641}), ('MEM', 'LAS', {'time': 3.825805724550607}), ('MEM', 'LAX', {'time': 4.230772586785632}), ('MEM', 'MCO', {'time': 2.3673888023413765}), ('MEM', 'MSP', {'time': 2.402142780229231}), ('MEM', 'PIT', {'time': 2.302499356400962}), ('MEM', 'SLC', {'time': 3.518520719435033}), ('MEX', 'ACA', {'time': 1.3809075186610738}), ('MEX', 'ATL', {'time': 3.6636863783128617}), ('MEX', 'DFW', {'time': 2.876955958078822}), ('MEX', 'DTW', {'time': 4.644683086289367}), ('MEX', 'IAD', {'time': 4.730930889860298}), ('MEX', 'IAH', {'time': 2.530659079685689}), ('MEX', 'JFK', {'time': 5.182245292222027}), ('MEX', 'LAS', {'time': 4.016718548753065}), ('MEX', 'LAX', {'time': 4.10685690670927}), ('MEX', 'MCO', {'time': 3.5602408178763945}), ('MEX', 'MIA', {'time': 3.5485008621769225}), ('MEX', 'MID', {'time': 2.2383061978520002}), ('MEX', 'ORD', {'time': 4.3786521465657255}), ('MEX', 'SAT', {'time': 2.3973712796069173}), ('MEX', 'SFO', {'time': 4.763545548411877}), ('MEX', 'VSA', {'time': 1.8423546992270672}), ('MGA', 'ATL', {'time': 3.9784484114125327}), ('MHT', 'ATL', {'time': 2.902722219044284}), ('MHT', 'DTW', {'time': 2.2158377855052187}), ('MHT', 'LGA', {'time': 1.3893518259433584}), ('MIA', 'ATL', {'time': 2.1918697488309293}), ('MIA', 'DTW', {'time': 3.2954445106412154}), ('MIA', 'JFK', {'time': 3.1836487072070105}), ('MIA', 'LAX', {'time': 5.675975704413893}), ('MIA', 'LGA', {'time': 3.197636775971548}), ('MIA', 'MEX', {'time': 3.5485008621769225}), ('MIA', 'MID', {'time': 2.363991528783658}), ('MIA', 'MSP', {'time': 4.005043475161587}), ('MIA', 'PAP', {'time': 2.427785092465353}), ('MIA', 'SVO', {'time': 12.43355667142783}), ('MKE', 'ATL', {'time': 2.3401150480492303}), ('MKE', 'DTW', {'time': 1.473233409369939}), ('MKE', 'LGA', {'time': 2.4722347512694984}), ('MKE', 'MCO', {'time': 3.136275552964577}), ('MKE', 'MSP', {'time': 1.5935437494215914}), ('MLB', 'ATL', {'time': 1.8864267442860236}), ('MOB', 'ATL', {'time': 1.60389131438249}), ('MSN', 'ATL', {'time': 2.416106443714446}), ('MSN', 'DTW', {'time': 1.6211668116564582}), ('MSN', 'LGA', {'time': 2.619860491058909}), ('MSN', 'MSP', {'time': 1.4548727391181133}), ('MSY', 'ATL', {'time': 1.849503531289212}), ('MSY', 'DTW', {'time': 2.8545089484210897}), ('MSY', 'LAX', {'time': 4.33409656937072}), ('MSY', 'LGA', {'time': 3.3653977474176338}), ('MSY', 'SLC', {'time': 3.853630608373311}), ('MUC', 'ATL', {'time': 10.571557926604912}), ('MYR', 'ATL', {'time': 1.6325449337516478}), ('NAS', 'ATL', {'time': 2.453310535453083}), ('NAS', 'DTW', {'time': 3.4662693334127277}), ('NAS', 'JFK', {'time': 3.1973320957686124}), ('NRT', 'ATL', {'time': 14.672966459752155}), ('NRT', 'BKK', {'time': 6.777502896164109}), ('NRT', 'DTW', {'time': 13.76565057314857}), ('NRT', 'GUM', {'time': 4.127399579218668}), ('NRT', 'HKG', {'time': 4.681184183134926}), ('NRT', 'HNL', {'time': 8.625725337870842}), ('NRT', 'JFK', {'time': 14.459466362922308}), ('NRT', 'LAX', {'time': 11.878733697430757}), ('NRT', 'MNL', {'time': 4.79134647651466}), ('NRT', 'MSP', {'time': 12.871776038390564}), ('NRT', 'PDX', {'time': 10.621444514334176}), ('NRT', 'PVG', {'time': 3.2313740555371475}), ('NRT', 'ROR', {'time': 4.993116505256859}), ('NRT', 'SEA', {'time': 10.514365068505182}), ('NRT', 'SIN', {'time': 7.658095839483068}), ('NRT', 'SPN', {'time': 3.928433463345321}), ('NRT', 'TPE', {'time': 3.7104449786491522}), ('OKC', 'ATL', {'time': 2.518189816702147}), ('OMA', 'ATL', {'time': 2.6417209621667617}), ('OMA', 'DTW', {'time': 2.2976309228857157}), ('OMA', 'MSP', {'time': 1.5632038218821598}), ('ORD', 'ATL', {'time': 2.2133236114361265}), ('ORD', 'CDG', {'time': 9.281891142991812}), ('ORD', 'CVG', {'time': 1.5286429249119038}), ('ORD', 'DTW', {'time': 1.4677540106696365}), ('ORD', 'FCO', {'time': 10.620813471831577}), ('ORD', 'GDL', {'time': 4.466478487300206}), ('ORD', 'MEX', {'time': 4.3786521465657255}), ('ORD', 'MSP', {'time': 1.667346621281813}), ('ORF', 'ATL', {'time': 2.031111652690722}), ('ORF', 'DTW', {'time': 2.057888744838201}), ('ORF', 'JFK', {'time': 1.579554587543798}), ('PAP', 'ATL', {'time': 3.5636841015461176}), ('PAP', 'JFK', {'time': 4.053467145954803}), ('PAP', 'MIA', {'time': 2.427785092465353}), ('PBI', 'ATL', {'time': 2.0911252392757813}), ('PBI', 'DTW', {'time': 3.1773305743625615}), ('PBI', 'LGA', {'time': 3.0732639550213596}), ('PHL', 'ATL', {'time': 2.331713565322079}), ('PHL', 'CDG', {'time': 8.436734098215759}), ('PHL', 'CVG', {'time': 2.0116547350127463}), ('PHL', 'DTW', {'time': 1.9047810910329106}), ('PHL', 'JFK', {'time': 1.1871813079346296}), ('PHL', 'MSP', {'time': 2.9566019756277884}), ('PHL', 'SLC', {'time': 4.843570554950206}), ('PHX', 'ATL', {'time': 4.167850363736138}), ('PHX', 'DTW', {'time': 4.335494237797472}), ('PHX', 'HMO', {'time': 1.6102157391302443}), ('PHX', 'JFK', {'time': 5.297549801428195}), ('PHX', 'MSP', {'time': 3.549743515820582}), ('PHX', 'SLC', {'time': 2.016244898196107}), ('PIT', 'ATL', {'time': 2.0538183348289287}), ('PIT', 'CDG', {'time': 8.799162596956183}), ('PIT', 'CVG', {'time': 1.5114138693887536}), ('PIT', 'DTW', {'time': 1.401612199199239}), ('PIT', 'JFK', {'time': 1.6776667596034165}), ('PIT', 'LGA', {'time': 1.6680075134094978}), ('PIT', 'MEM', {'time': 2.302499356400962}), ('PIT', 'MSP', {'time': 2.4499592150415914}), ('PIT', 'PUJ', {'time': 4.341315301087185}), ('PLS', 'ATL', {'time': 3.2102332560221067}), ('PLS', 'BOS', {'time': 3.8490958536579}), ('PLS', 'JFK', {'time': 3.6130651963204676}), ('PNS', 'ATL', {'time': 1.5434983287847728}), ('PTY', 'ATL', {'time': 4.454751191772112}), ('PUJ', 'ATL', {'time': 3.87502174627383}), ('PUJ', 'CVG', {'time': 4.438304580645546}), ('PUJ', 'DTW', {'time': 4.710941700588976}), ('PUJ', 'JFK', {'time': 4.117061497135431}), ('PUJ', 'PIT', {'time': 4.341315301087185}), ('PVD', 'ATL', {'time': 2.806228913805867}), ('PVD', 'DTW', {'time': 2.226748394436754}), ('PVR', 'ATL', {'time': 4.113956635016857}), ('PVR', 'LAX', {'time': 3.4379842034509056}), ('RDU', 'ATL', {'time': 1.7111570907643974}), ('RDU', 'BWI', {'time': 1.5114374614320816}), ('RDU', 'CUN', {'time': 3.2718489988901585}), ('RDU', 'CVG', {'time': 1.7794901734770374}), ('RDU', 'DTW', {'time': 2.0028180293232962}), ('RDU', 'LAS', {'time': 5.042414042909168}), ('RDU', 'LAX', {'time': 5.46707522707426}), ('RDU', 'LGA', {'time': 1.861230338002784}), ('RDU', 'MSP', {'time': 2.958756148307384}), ('RDU', 'SLC', {'time': 4.638649079078329}), ('RIC', 'ATL', {'time': 1.960863203113735}), ('RIC', 'CVG', {'time': 1.8248981228383134}), ('RIC', 'DTW', {'time': 1.912075734399676}), ('RIC', 'JFK', {'time': 1.5760177294975972}), ('RIC', 'LGA', {'time': 1.5837821542514692}), ('ROA', 'ATL', {'time': 1.7145789338058068}), ('ROC', 'ATL', {'time': 2.49958042277279}), ('ROC', 'JFK', {'time': 1.5269917142360185}), ('ROC', 'LGA', {'time': 1.5070779219947203}), ('RSW', 'ATL', {'time': 2.0318020014091687}), ('RSW', 'CVG', {'time': 2.761573258405134}), ('RSW', 'DTW', {'time': 3.1737811603654085}), ('RSW', 'IND', {'time': 2.8949426173444097}), ('RSW', 'MSP', {'time': 3.8362258459435226}), ('RTB', 'ATL', {'time': 3.4075403160766586}), ('SAL', 'ATL', {'time': 3.8507126513828127}), ('SAN', 'ATL', {'time': 4.775056584710214}), ('SAN', 'DTW', {'time': 4.904921205491107}), ('SAN', 'JFK', {'time': 5.881537304033995}), ('SAN', 'MSP', {'time': 4.060619863016484}), ('SAN', 'SLC', {'time': 2.2531149781308026}), ('SAP', 'ATL', {'time': 3.5504040361445828}), ('SAT', 'ATL', {'time': 2.7456777228576374}), ('SAT', 'DTW', {'time': 3.4287498346830896}), ('SAT', 'JFK', {'time': 4.170052149136976}), ('SAT', 'MEX', {'time': 2.3973712796069173}), ('SAT', 'SLC', {'time': 3.1737915468861253}), ('SAV', 'ATL', {'time': 1.4284984677919592}), ('SAV', 'DTW', {'time': 2.4134332448274085}), ('SAV', 'JFK', {'time': 2.4359529813567073}), ('SCL', 'ATL', {'time': 10.430510740027847}), ('SDF', 'ATL', {'time': 1.643888506955071}), ('SDF', 'DTW', {'time': 1.6119859151087088}), ('SDF', 'LGA', {'time': 2.314337209721172}), ('SDQ', 'ATL', {'time': 3.7814967870676566}), ('SDQ', 'JFK', {'time': 4.107686829876876}), ('SFO', 'ATL', {'time': 5.26846842027834}), ('SFO', 'CVG', {'time': 5.0626819903639735}), ('SFO', 'DTW', {'time': 5.147459286055231}), ('SFO', 'HNL', {'time': 5.793038642339936}), ('SFO', 'JFK', {'time': 6.159599162717235}), ('SFO', 'MEX', {'time': 4.763545548411877}), ('SFO', 'MSP', {'time': 4.170717312359621}), ('SFO', 'PVG', {'time': 13.275080980520578}), ('SFO', 'SLC', {'time': 2.1954079547914658}), ('SJC', 'ATL', {'time': 5.222392460291267}), ('SJC', 'MSP', {'time': 4.1442007967016234}), ('SJC', 'SLC', {'time': 2.1668465744310423}), ('SJD', 'ATL', {'time': 4.386417086728349}), ('SJO', 'ATL', {'time': 4.267242296796605}), ('SJO', 'JFK', {'time': 5.42289955337753}), ('SJO', 'LAX', {'time': 6.445729631257236}), ('SJU', 'ATL', {'time': 4.095598739214513}), ('SJU', 'DTW', {'time': 4.8653923575796085}), ('SJU', 'JFK', {'time': 4.203691032100686}), ('SMF', 'ATL', {'time': 5.175296025248719}), ('SMF', 'MSP', {'time': 4.027884966405786}), ('SMF', 'SLC', {'time': 2.0609589625356817}), ('SNA', 'ATL', {'time': 4.829229032518775}), ('SNA', 'MSP', {'time': 4.0394233043145205}), ('SNA', 'SLC', {'time': 2.1766017272749982}), ('SRQ', 'ATL', {'time': 1.8907845059081652}), ('SRQ', 'LGA', {'time': 3.096528074433479}), ('STL', 'ATL', {'time': 1.9681027220910523}), ('STL', 'CVG', {'time': 1.614540334591714}), ('STL', 'DTW', {'time': 1.8787436457855824}), ('STL', 'LGA', {'time': 2.771957389401906}), ('STL', 'MSP', {'time': 1.896827568162867}), ('STL', 'SLC', {'time': 3.306398601957028}), ('STR', 'ATL', {'time': 10.341244550275627}), ('STT', 'ATL', {'time': 4.199827425553383}), ('STT', 'JFK', {'time': 4.2544557120233755}), ('SXM', 'ATL', {'time': 4.403672987640739}), ('SXM', 'JFK', {'time': 4.370611335823149}), ('SYR', 'ATL', {'time': 2.5877700299900104}), ('SYR', 'DTW', {'time': 1.7465857458015845}), ('SYR', 'JFK', {'time': 1.4170680561544966}), ('SYR', 'LGA', {'time': 1.3958608128740244}), ('TGU', 'ATL', {'time': 3.72763066677022}), ('TLH', 'ATL', {'time': 1.4478449657260484}), ('TPA', 'ATL', {'time': 1.8139359994765574}), ('TPA', 'CVG', {'time': 2.5496786091501256}), ('TPA', 'DTW', {'time': 2.9695051587485874}), ('TPA', 'JFK', {'time': 3.012650936547943}), ('TPA', 'LAX', {'time': 5.307874288482702}), ('TPA', 'LGA', {'time': 3.0235437320250176}), ('TPA', 'MSP', {'time': 3.6156825917644464}), ('TRI', 'ATL', {'time': 1.4539538975183397}), ('TUL', 'ATL', {'time': 2.344973235220186}), ('TUS', 'ATL', {'time': 4.0757331915248045}), ('TUS', 'MSP', {'time': 3.593944025714571}), ('TYS', 'ATL', {'time': 1.3044764093195802}), ('UIO', 'ATL', {'time': 5.732085881012116}), ('UVF', 'ATL', {'time': 5.028484620874662}), ('VPS', 'ATL', {'time': 1.5001903875572071}), ('XNA', 'ATL', {'time': 2.176316963466202}), ('ZRH', 'ATL', {'time': 10.35972456089611}), ('AZO', 'DTW', {'time': 1.2250103011258808}), ('BCN', 'JFK', {'time': 8.643145622505923}), ('BGR', 'LGA', {'time': 1.7558852279618784}), ('BIL', 'MSP', {'time': 2.4912181393289305}), ('BKK', 'NRT', {'time': 6.777502896164109}), ('BOI', 'MSP', {'time': 3.277374490687678}), ('BOI', 'SLC', {'time': 1.579627690660234}), ('BTV', 'LGA', {'time': 1.515763810936155}), ('BZN', 'MSP', {'time': 2.742708970910838}), ('CUL', 'HMO', {'time': 1.7428661543046}), ('CUL', 'MTY', {'time': 1.9311825703771308}), ('HMO', 'CUL', {'time': 1.7428661543046}), ('HMO', 'LAX', {'time': 2.094989312193598}), ('HMO', 'MEX', {'time': 3.0119180829564627}), ('HMO', 'PHX', {'time': 1.6102157391302443}), ('MTY', 'CUL', {'time': 1.9311825703771308}), ('MTY', 'CUU', {'time': 1.8252285896337317}), ('MTY', 'DTW', {'time': 3.9619403689013373}), ('MTY', 'LAS', {'time': 3.2768938181271263}), ('DAL', 'ATL', {'time': 2.4391280663064494}), ('DKR', 'JFK', {'time': 8.605823230913014}), ('ERI', 'DTW', {'time': 1.3262259619374381}), ('GRB', 'DTW', {'time': 1.5734191907960167}), ('ICN', 'DTW', {'time': 14.24072339632853}), ('ICN', 'JFK', {'time': 14.780505593260514}), ('NGO', 'DTW', {'time': 14.074655252387945}), ('NGO', 'GUM', {'time': 4.117727564221511}), ('NGO', 'HNL', {'time': 9.036995802773571}), ('NGO', 'MNL', {'time': 4.429816909282129}), ('PEK', 'DTW', {'time': 14.231041449502136}), ('PEK', 'SEA', {'time': 11.785933413156794}), ('PVG', 'DTW', {'time': 15.244119221171621}), ('PVG', 'JFK', {'time': 15.755901700990542}), ('PVG', 'NRT', {'time': 3.2313740555371475}), ('PVG', 'SEA', {'time': 12.418096940696616}), ('PVG', 'SFO', {'time': 13.275080980520578}), ('TVC', 'DTW', {'time': 1.4147875521099933}), ('EKO', 'SLC', {'time': 1.3989302303759177}), ('FAR', 'MSP', {'time': 1.4458039476285744}), ('FSD', 'MSP', {'time': 1.3920601231170087}), ('FUK', 'HNL', {'time': 9.779010563116326}), ('GEG', 'MSP', {'time': 3.343808814962799}), ('GEG', 'SLC', {'time': 2.092062992316986}), ('GND', 'JFK', {'time': 5.216930139567168}), ('GUM', 'KIX', {'time': 4.1312536910318105}), ('GUM', 'NGO', {'time': 4.117727564221511}), ('GUM', 'NRT', {'time': 4.127399579218668}), ('KIX', 'GUM', {'time': 4.1312536910318105}), ('KIX', 'HNL', {'time': 9.219456322165897}), ('HKG', 'NRT', {'time': 4.681184183134926}), ('HND', 'LAX', {'time': 11.95153315181147}), ('HND', 'SEA', {'time': 10.58362845847448}), ('SVO', 'IAD', {'time': 10.70777467994618}), ('SVO', 'JFK', {'time': 10.29684744234655}), ('SVO', 'LAX', {'time': 13.126031181998508}), ('SVO', 'MIA', {'time': 12.43355667142783}), ('MXP', 'JFK', {'time': 8.969389328761817}), ('NCE', 'JFK', {'time': 8.96205079773059}), ('STI', 'JFK', {'time': 3.9581247095486307}), ('TLV', 'JFK', {'time': 12.330131878289524}), ('VCE', 'JFK', {'time': 9.286903257645362}), ('YUL', 'DTW', {'time': 2.0576631632681535}), ('YUL', 'JFK', {'time': 1.6675627913271236}), ('YUL', 'LGA', {'time': 1.6487011355737282}), ('YYZ', 'ATL', {'time': 2.480201504501621}), ('YYZ', 'JFK', {'time': 1.731473133806372}), ('KOA', 'LAX', {'time': 6.002867429056246}), ('LIH', 'LAX', {'time': 6.223267421027663}), ('OGG', 'LAX', {'time': 5.965268417187289}), ('SYD', 'LAX', {'time': 15.98887014098545}), ('MID', 'MEX', {'time': 2.2383061978520002}), ('MID', 'MIA', {'time': 2.363991528783658}), ('MNL', 'NGO', {'time': 4.429816909282129}), ('MNL', 'NRT', {'time': 4.79134647651466}), ('MSO', 'MSP', {'time': 3.0203911784728548}), ('PSP', 'MSP', {'time': 3.903467234071463}), ('YYC', 'MSP', {'time': 3.097761161607821}), ('ROR', 'NRT', {'time': 4.993116505256859}), ('SIN', 'NRT', {'time': 7.658095839483068}), ('SPN', 'NGO', {'time': 3.9442876459187266}), ('SPN', 'NRT', {'time': 3.928433463345321}), ('TPE', 'NRT', {'time': 3.7104449786491522}), ('OAK', 'SLC', {'time': 2.174215476755945}), ('ONT', 'SLC', {'time': 2.1157932621865996}), ('RNO', 'SLC', {'time': 1.8416435058642324})])"
      ]
     },
     "execution_count": 49,
     "metadata": {},
     "output_type": "execute_result"
    }
   ],
   "source": [
    "weighted_flights = nx.DiGraph()\n",
    "for index, row in routes.iterrows():\n",
    "    # convert distance to miles and calculate time required\n",
    "    miles = row.d_flight_distance * 0.621371\n",
    "    time =  (miles/500) + 1\n",
    "    \n",
    "    weighted_flights.add_edge(row.source, row.dest, time = time) # time is an attribute\n",
    "\n",
    "weighted_flights.edges(data=True) # data is the value of the attribute added"
   ]
  },
  {
   "cell_type": "markdown",
   "metadata": {},
   "source": [
    "### 6. How long does it take to travel to Honolulu, in flight times."
   ]
  },
  {
   "cell_type": "code",
   "execution_count": 51,
   "metadata": {},
   "outputs": [
    {
     "data": {
      "text/plain": [
       "['LEX', 'ATL', 'HNL']"
      ]
     },
     "execution_count": 51,
     "metadata": {},
     "output_type": "execute_result"
    }
   ],
   "source": [
    "# paths from LEX to HNL\n",
    "nx.shortest_path(weighted_flights, 'LEX', 'HNL', weight='time')"
   ]
  },
  {
   "cell_type": "code",
   "execution_count": 53,
   "metadata": {},
   "outputs": [
    {
     "name": "stdout",
     "output_type": "stream",
     "text": [
      "It takes 11.6 hrs\n"
     ]
    }
   ],
   "source": [
    "total_time = nx.shortest_path_length(weighted_flights, 'LEX', 'HNL', weight='time')\n",
    "#print('It takes %s hrs' % round(total_time, 2))\n",
    "print(round(total_time, 2), 'hrs' )"
   ]
  },
  {
   "cell_type": "code",
   "execution_count": null,
   "metadata": {},
   "outputs": [],
   "source": []
  }
 ],
 "metadata": {
  "anaconda-cloud": {},
  "kernelspec": {
   "display_name": "Python 3",
   "language": "python",
   "name": "python3"
  },
  "language_info": {
   "codemirror_mode": {
    "name": "ipython",
    "version": 3
   },
   "file_extension": ".py",
   "mimetype": "text/x-python",
   "name": "python",
   "nbconvert_exporter": "python",
   "pygments_lexer": "ipython3",
   "version": "3.6.8"
  }
 },
 "nbformat": 4,
 "nbformat_minor": 1
}
